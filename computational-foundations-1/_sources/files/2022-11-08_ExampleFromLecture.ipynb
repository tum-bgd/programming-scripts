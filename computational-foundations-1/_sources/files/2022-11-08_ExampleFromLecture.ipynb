{
 "cells": [
  {
   "cell_type": "markdown",
   "id": "8c25939c-143f-4ff5-a9ce-bdec50b88f0d",
   "metadata": {},
   "source": [
    "# Written Addition"
   ]
  },
  {
   "cell_type": "code",
   "execution_count": 28,
   "id": "7e2209f8-04a9-4f93-8acb-be4feb1ce585",
   "metadata": {},
   "outputs": [
    {
     "name": "stdout",
     "output_type": "stream",
     "text": [
      "X= [3, 2, 3]\n",
      "Y= [9, 5, 8]\n",
      "3\n"
     ]
    }
   ],
   "source": [
    "# we ignore the table for the moment\n",
    "\n",
    "# N-digit numbers are given as a list\n",
    "X = [3,2,3]\n",
    "Y = [9,5,8]\n",
    "print(\"X=\",X)\n",
    "print(\"Y=\",Y)\n",
    "\n",
    "N = len(X)\n",
    "print(N)"
   ]
  },
  {
   "cell_type": "code",
   "execution_count": 33,
   "id": "298cfcf4-8241-4172-9b2d-b5652209a2fa",
   "metadata": {},
   "outputs": [
    {
     "name": "stdout",
     "output_type": "stream",
     "text": [
      "[1, 2, 8, 1]\n"
     ]
    },
    {
     "data": {
      "text/plain": [
       "1281"
      ]
     },
     "execution_count": 33,
     "metadata": {},
     "output_type": "execute_result"
    }
   ],
   "source": [
    "def add(a,b):\n",
    "    \"\"\"adds two numbers, a and be have to have equal number of digits\"\"\"\n",
    "    assert len(a) == len(b), \"This implementation expects equal-length digits\"\n",
    "    ret = []\n",
    "    carry = False # Track whether we need to add a one to the next digit\n",
    "    for i in range(len(a)):\n",
    "        table_result = a[len(a)-1-i] + b[len(b)-1-i]  # this is just from right to left\n",
    "        if carry:\n",
    "            table_result = table_result +1 # increment if previous was too large\n",
    "            carry = False\n",
    "        if table_result >= 10: # set up carry and correct digit to one digit\n",
    "            table_result = table_result - 10\n",
    "            carry = True\n",
    "        ret = [table_result, *ret] # collect results\n",
    "    if carry:\n",
    "        ret = [1, *ret] # final carry\n",
    "    return ret\n",
    "    \n",
    "print(add(X,Y))\n",
    "323+958"
   ]
  },
  {
   "cell_type": "markdown",
   "id": "5610a745-532d-44c2-bbc8-f0ca5d092a2f",
   "metadata": {},
   "source": [
    "# The * Operator\n",
    "Given any iterable construction python (like a list, anything you can run a for loop over), you \n",
    "can replace the iterable container with its values by using the * operator as above where we \n",
    "create the return value.\n"
   ]
  },
  {
   "cell_type": "markdown",
   "id": "ae1d9b1d-0ea4-4caa-83b9-6a6453bf5265",
   "metadata": {},
   "source": [
    "# Complexity of an Algorithm\n",
    "\n",
    "Ideas from the class\n",
    "- how often you access data\n",
    "- how often you have a certain instruction\n",
    "- the runtime in the sense of the number of loops / nesting of loops\n",
    "- the growth depending on the problem size\n",
    "\n",
    "Complexity (independent of the actual machine) is the rate of growth of instructions based on the size of the input.\n",
    "\n",
    "Variants for size of the ouput exist as well\n"
   ]
  },
  {
   "cell_type": "markdown",
   "id": "c4d46c7e-45c9-40ce-990f-e2d44ab0ca75",
   "metadata": {},
   "source": [
    "# Recursion\n",
    "$$ n! = \\prod_{i=1}^n i$$\n",
    "\n",
    "This can be solved directly as a loop, see `factorial` below. However, we can also give a recursion formula\n",
    "\n",
    "$$ n! = n \\cdot (n-1)!$$\n",
    "$$ 0! = 1! = 1$$'\n",
    "\n"
   ]
  },
  {
   "cell_type": "code",
   "execution_count": 38,
   "id": "ecb792bb-a9f4-49e1-b849-8ae73f97907e",
   "metadata": {},
   "outputs": [
    {
     "data": {
      "text/plain": [
       "120"
      ]
     },
     "execution_count": 38,
     "metadata": {},
     "output_type": "execute_result"
    }
   ],
   "source": [
    "# sequential\n",
    "def factorial (n):\n",
    "    ret = 1\n",
    "    for i in range(n):\n",
    "        ret = ret * (i+1)\n",
    "    return ret;\n",
    "\n",
    "factorial(5)"
   ]
  },
  {
   "cell_type": "code",
   "execution_count": 39,
   "id": "351cbd19-cbe1-405b-bfb1-737fe89eefcc",
   "metadata": {},
   "outputs": [
    {
     "data": {
      "text/plain": [
       "120"
      ]
     },
     "execution_count": 39,
     "metadata": {},
     "output_type": "execute_result"
    }
   ],
   "source": [
    "def factorial2(n):\n",
    "    if n == 1:\n",
    "        return 1\n",
    "    return n * factorial2(n-1)\n",
    "\n",
    "factorial2(5)\n",
    "    "
   ]
  },
  {
   "cell_type": "code",
   "execution_count": 49,
   "id": "e262d3e1-a3ac-482b-8615-f7f4a13c336e",
   "metadata": {},
   "outputs": [
    {
     "data": {
      "text/plain": [
       "False"
      ]
     },
     "execution_count": 49,
     "metadata": {},
     "output_type": "execute_result"
    }
   ],
   "source": [
    "def compute_factorial_unless_larger_than(n, t):\n",
    "    if n == 1:\n",
    "        return 1\n",
    "    tmp = n *  compute_factorial_unless_larger_than(n-1,t)\n",
    "    if tmp > t:\n",
    "        return False\n",
    "    return tmp\n",
    "\n",
    "compute_factorial_unless_larger_than(5, 100)\n",
    "\n",
    "# Inefficient, as we cannot stop the recursion procedure at the moment where we are finding that the treshold is exceeded.\n",
    "# Useless computation is the consequence:\n",
    "# Solution:\n",
    "# - Exceptions are often interpreted as errors, but they can unwind the stack and are sometimes just signals of success.\n",
    "    "
   ]
  },
  {
   "cell_type": "code",
   "execution_count": 50,
   "id": "0fa70868-f80b-4b92-b428-d7e384c082b6",
   "metadata": {},
   "outputs": [],
   "source": [
    "def compute_factorial_unless_larger_than2(n, t):\n",
    "    ret = 1\n",
    "    for i in range(n):\n",
    "        ret = ret * (i+1)\n",
    "        if ret > t:\n",
    "            return False\n",
    "    "
   ]
  },
  {
   "cell_type": "markdown",
   "id": "0d5a92dc-f9b1-44a6-9af0-5bd9cd3da282",
   "metadata": {},
   "source": [
    "# Take-Away Message:\n",
    "Recursion is elegant, very often it is easier to proof correctness, often source code is shorter, avoids local variables, and many other good things, but it can be slower (because you cannot easily stop the recursion), has a size bound in practice (the call stack is not unlimited). Tail recursion (wikipedia) can always be reformulated as a loop and full recursion can always be simulated using an explicit stack data variable\n"
   ]
  },
  {
   "cell_type": "markdown",
   "id": "52f93bd2-e9c1-4f57-83c8-5fcbc10bd170",
   "metadata": {},
   "source": [
    "# Strings with \" vs. '"
   ]
  },
  {
   "cell_type": "code",
   "execution_count": 57,
   "id": "eda51f1e-f290-4f13-b309-0b0104f66bf8",
   "metadata": {},
   "outputs": [
    {
     "name": "stdout",
     "output_type": "stream",
     "text": [
      "test test\n"
     ]
    }
   ],
   "source": [
    "# The results are the same\n",
    "x = \"test\"\n",
    "y = 'test'\n",
    "print(x,y)\n",
    "\n",
    "# But, the \" is being processed by formatting while the other is not\n",
    "# The not case first\n",
    "# NEed to look up on the history of it, it used to be as I tried to explain, but it is not\n"
   ]
  },
  {
   "cell_type": "markdown",
   "id": "00f441af-0159-42b2-ba11-2e4bc26f635c",
   "metadata": {},
   "source": [
    "# Dictionaries\n"
   ]
  },
  {
   "cell_type": "code",
   "execution_count": 74,
   "id": "2c7a38da-5eb1-4ba7-9dea-e946c1b817b8",
   "metadata": {},
   "outputs": [
    {
     "name": "stdout",
     "output_type": "stream",
     "text": [
      "{}\n",
      "{}\n",
      "TUM\n",
      "{'name': 'TUM', 'type': 'university', 'numberofstudents': 42}\n",
      "name ==> TUM\n",
      "type ==> university\n",
      "numberofstudents ==> 42\n",
      "{'id_0': 0, 'id_1': 1, 'id_2': 2, 'id_3': 3, 'id_4': 4, 'id_5': 5, 'id_6': 6, 'id_7': 7, 'id_8': 8, 'id_9': 9, 'id_10': 10, 'id_11': 11, 'id_12': 12, 'id_13': 13, 'id_14': 14, 'id_15': 15, 'id_16': 16, 'id_17': 17, 'id_18': 18, 'id_19': 19, 'id_20': 20, 'id_21': 21, 'id_22': 22, 'id_23': 23, 'id_24': 24, 'id_25': 25, 'id_26': 26, 'id_27': 27, 'id_28': 28, 'id_29': 29, 'id_30': 30, 'id_31': 31, 'id_32': 32, 'id_33': 33, 'id_34': 34, 'id_35': 35, 'id_36': 36, 'id_37': 37, 'id_38': 38, 'id_39': 39, 'id_40': 40, 'id_41': 41, 'id_42': 42, 'id_43': 43, 'id_44': 44, 'id_45': 45, 'id_46': 46, 'id_47': 47, 'id_48': 48, 'id_49': 49, 'id_50': 50, 'id_51': 51, 'id_52': 52, 'id_53': 53, 'id_54': 54, 'id_55': 55, 'id_56': 56, 'id_57': 57, 'id_58': 58, 'id_59': 59, 'id_60': 60, 'id_61': 61, 'id_62': 62, 'id_63': 63, 'id_64': 64, 'id_65': 65, 'id_66': 66, 'id_67': 67, 'id_68': 68, 'id_69': 69, 'id_70': 70, 'id_71': 71, 'id_72': 72, 'id_73': 73, 'id_74': 74, 'id_75': 75, 'id_76': 76, 'id_77': 77, 'id_78': 78, 'id_79': 79, 'id_80': 80, 'id_81': 81, 'id_82': 82, 'id_83': 83, 'id_84': 84, 'id_85': 85, 'id_86': 86, 'id_87': 87, 'id_88': 88, 'id_89': 89, 'id_90': 90, 'id_91': 91, 'id_92': 92, 'id_93': 93, 'id_94': 94, 'id_95': 95, 'id_96': 96, 'id_97': 97, 'id_98': 98, 'id_99': 99}\n",
      "Found for 6: 5\n"
     ]
    }
   ],
   "source": [
    "# Dictionary\n",
    "\n",
    "x = dict()\n",
    "print(x)\n",
    "x = {}\n",
    "print(x)\n",
    "# Dictionary is key-value\n",
    "data = {\"name\": \"TUM\", \"type\": \"university\", \"numberofstudents\": 42 }\n",
    "# accessed using the keys as indices\n",
    "print (data[\"name\"])\n",
    "print(data)\n",
    "for x in data:\n",
    "    print(\"%s ==> %s\" % (x, str(data[x])))\n",
    "    \n",
    "# you can do the same as with list expressions\n",
    "\n",
    "x = {\"id_%d\" %(x): x for x in range(100)}\n",
    "print(x)\n",
    "# Dictionaries are quite good at accessing few elements \n",
    "\n",
    "data = [[1,2],[3,4],[5,6]]\n",
    "# task is to find a point with Y == 6\n",
    "# good solution (especially if many times you are looking for a specific value of y)\n",
    "\n",
    "index = {y:x for x,y in data}\n",
    "print(\"Found for 6:\", index[6])"
   ]
  },
  {
   "cell_type": "code",
   "execution_count": null,
   "id": "8b084aad-7a7b-4f9a-93d3-b0efed894db7",
   "metadata": {},
   "outputs": [],
   "source": []
  }
 ],
 "metadata": {
  "kernelspec": {
   "display_name": "Python 3 (ipykernel)",
   "language": "python",
   "name": "python3"
  },
  "language_info": {
   "codemirror_mode": {
    "name": "ipython",
    "version": 3
   },
   "file_extension": ".py",
   "mimetype": "text/x-python",
   "name": "python",
   "nbconvert_exporter": "python",
   "pygments_lexer": "ipython3",
   "version": "3.10.6"
  }
 },
 "nbformat": 4,
 "nbformat_minor": 5
}
