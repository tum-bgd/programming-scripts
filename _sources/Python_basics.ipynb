{
 "cells": [
  {
   "cell_type": "markdown",
   "metadata": {},
   "source": [
    "# Python basics\n",
    "---\n",
    "\n",
    "(It has been taken from our previous educational project [ICAML](=https://www.icaml.org/) and will be reshaped to fit us better.",
    "\n",
    "__This page can be downloaded as__ [interactive jupyter notebook](./Python_basics.ipynb)\n",
    "\n",
    "---\n",
    "This tutorial gives a brief overview of the most essential features of Python. I recommend to additionally read (at least) chapters 3, 4 and 5 from the [official Python docs](=https://docs.python.org/3/tutorial/). Excellent Python tutorials are available at [python-course.eu EN](https://www.python-course.eu/python3_interactive.php) or [python-kurs.eu GER](https://www.python-kurs.eu/python3_interaktiv.php). Another tutorial starting from zero is available at [inventwithpython.com](http://inventwithpython.com/invent4thed/chapter1.html>) When searching the web for specific Python related topics, keep in mind that we are looking at __Python 3.X.X__. Python 2.7 is still very popular but shows some major differences in comparison with Python 3."
   ]
  },
  {
   "cell_type": "markdown",
   "metadata": {},
   "source": [
    "### Table of contents\n",
    "\n",
    "[Basic interpreter rules](#i-rules)<br>\n",
    "[Variables](#variables) [[Data types](#data-types) / [Naming variables](#naming-variables)]<br>\n",
    "[Operations](#operations) [[Arithmetic operations](#arithmetic-operations) / [Boolean operations](#boolean-operations) / [Comparisons](#comparisons)]<br>\n",
    "[Conversions](#conversions)<br>\n",
    "[Decisions](#decisions)<br>\n",
    "[Built-in data types](#built-ins) [[Lists](#lists) / [Tuples](#tuples) / [Dictionaries](#dictionaries) / [Sets](#sets)]<br> \n",
    "[Loops](#loops) [[While loop](#while-loop) / [For loop](#for-loop) / [Break and continue](#break-and-continue)]<br>\n",
    "[Functions](#functions)<br>\n",
    "[Built-in functions](#built-in-functions)<br>\n",
    "[Classes](#classes)<br>\n",
    "[Assertions](#assertions)<br>\n",
    "[Common errors](#common-errors)<br>\n",
    "[Catching errors](#catching-errors)<br>\n",
    "[Lambda expressions](#lambda-expressions)<br>\n",
    "[Mixed topics](#interesting-things)"
   ]
  },
  {
   "cell_type": "markdown",
   "metadata": {},
   "source": [
    "<h3 style=\"color: #ffffff; background-color: #00509B; padding: 1%\" >Basic interpreter rules<a id='i-rules'></a> </h3><br>\n",
    "The interpreter acts like a translator of code for the computer. When learning to program it's very important to understand how the interpreter works. In this first chapter we will learn the basic rules including syntax and execution order. Three essential rules of the interpreter, are:\n",
    "\n",
    "1. Execute code statement-wise (top to bottom)\n",
    " - Statements are usually separated by linebreaks\n",
    "2. Execute statements by evaluating all expressions\n",
    " - Start with the most nested expression\n",
    " - Follow precedence rules \n",
    "3. Ignore comments (`#`), blank lines and whitespace \n",
    "\n",
    "__Terminology:__\n",
    "\n",
    "- __Statements__ can be seen as the instructions, any program consists of. \n",
    "- A statement consist of at least one __expression__. \n",
    "\n",
    "__Note:__\n",
    "\n",
    "- Cells are executed by selecting them first and then pressing [CTRL]+[ENTER] (in the Jupyter Notebook)\n",
    "- The output of a cell will be displayed below the cell. "
   ]
  },
  {
   "cell_type": "code",
   "execution_count": 1,
   "metadata": {},
   "outputs": [
    {
     "name": "stdout",
     "output_type": "stream",
     "text": [
      "2\n",
      "20\n"
     ]
    }
   ],
   "source": [
    "a = 1         # 1 expression:  'assign the value 1 to variable a!'\n",
    "b = a + 1     # 2 expressions: 'compute the sum of a and 1!' and 'assign result to the variable b!' \n",
    "c = a + b - 1 # 3 expressions: 'a + b' and 'X - 1' and c = X\n",
    "print(c)      # 1 expression:  'call function print with argument c!'\n",
    "print(c*10)   # 2 expressions: 'c*10' and print(X)"
   ]
  },
  {
   "cell_type": "markdown",
   "metadata": {},
   "source": [
    "In Python the statements are usually separated by __line breaks__. Separating statements with a __semicolon__ is also allowed but less common / readable. The following two cells are equal in terms of the statements but differently formatted. The arguments of print are texts (denoted by `'`):"
   ]
  },
  {
   "cell_type": "code",
   "execution_count": 2,
   "metadata": {},
   "outputs": [
    {
     "name": "stdout",
     "output_type": "stream",
     "text": [
      "Hello\n",
      "World\n",
      "!\n"
     ]
    }
   ],
   "source": [
    "print('Hello')  # first statement\n",
    "print('World')  # second statement\n",
    "# .. blank lines are ignored\n",
    "print('!')      # third statement (.. white spaces between symbols / variables are ignored as well)"
   ]
  },
  {
   "cell_type": "code",
   "execution_count": 3,
   "metadata": {},
   "outputs": [
    {
     "name": "stdout",
     "output_type": "stream",
     "text": [
      "Hello\n",
      "World\n",
      "!\n"
     ]
    }
   ],
   "source": [
    "# statements separated be semicolons -> valid but less readable\n",
    "print('Hello'); print('World'); print('!') "
   ]
  },
  {
   "cell_type": "markdown",
   "metadata": {},
   "source": [
    "Multi line statements are less common but also possible in Python. To continue a statement in the next line, we add `\\` before the line break. Line continuation is also implied inside parentheses `( )`, brackets `[ ]` and braces `{ }`."
   ]
  },
  {
   "cell_type": "code",
   "execution_count": 4,
   "metadata": {},
   "outputs": [
    {
     "name": "stdout",
     "output_type": "stream",
     "text": [
      "15\n",
      "15\n"
     ]
    }
   ],
   "source": [
    "a = 1 + 2 + \\\n",
    "    3 + 4 + 5\n",
    "print(a)\n",
    "\n",
    "b = (1 + 2 + \n",
    "     3 + 4 + 5)\n",
    "print(b)"
   ]
  },
  {
   "cell_type": "markdown",
   "metadata": {},
   "source": [
    "The most significant difference between Python and other languages is the __mandatory indentation__ of blocks. Blocks are grouped statements (e.g. used in loops, conditions or functions). The following cell will demonstrate the indentation syntax. The `if`-keyword (details later!) introduces a block. Usually the indentation size is __four spaces__. Most IDEs (also the Jupyter server) will convert tabs to spaces so we can use tabs as well. \n",
    "\n",
    "__A simple indentation rule is:__ Whenever a statement ends with a colon, (at least) the next non-blank line has to be indented."
   ]
  },
  {
   "cell_type": "code",
   "execution_count": 5,
   "metadata": {},
   "outputs": [
    {
     "name": "stdout",
     "output_type": "stream",
     "text": [
      "Hello\n",
      "World\n",
      "!\n"
     ]
    }
   ],
   "source": [
    "if True:   # 'if' is here just used to introduce a block. Statements that introduce blocks end with a colon!\n",
    "    print('Hello')\n",
    "    print('World') # two statements inside a block (indented with four spaces / one tab!)\n",
    "print('!') # outside the block (no indentation) "
   ]
  },
  {
   "cell_type": "markdown",
   "metadata": {},
   "source": [
    "Additional information about indentation and blocks is available [here](https://www.python-course.eu/python3_blocks.php>)."
   ]
  },
  {
   "cell_type": "markdown",
   "metadata": {},
   "source": [
    "<h3 style=\"color: #ffffff; background-color: #00509B; padding: 1%\" >Variables<a id='variables'></a> </h3><br> \n",
    "\n",
    "When creating a variable in Python, the data type is usually not given explicitly. Instead Python will automatically detect the variables type from the assigned value. To create and assign a variable the syntax is x = v, where x is the variables name and v the explicid value or an existing variable. When a variable already exists, it will be __overwritten__ (and possibly also get a new data type). <br><br>\n",
    "__Note__ that variables in Jupyter Notebooks exist __across all cells.__"
   ]
  },
  {
   "cell_type": "code",
   "execution_count": 6,
   "metadata": {},
   "outputs": [
    {
     "name": "stdout",
     "output_type": "stream",
     "text": [
      "1 2 3.5\n"
     ]
    }
   ],
   "source": [
    "x = 1           # create x and assign the value 1\n",
    "x = 3.5         # x already exists, so it will be overwritten with 3.5\n",
    "y = x           # create y and assign the value of x\n",
    "x = y = z = 1   # it is valid to assign a value to multiple variables\n",
    "x,y,z = 1,2,3.5 # or implicitly using tuples (covered later)\n",
    "\n",
    "print(x,y,z)    # print() can display multiple variables/values, separated by commas"
   ]
  },
  {
   "cell_type": "markdown",
   "metadata": {},
   "source": [
    "To list all variables that are currently in the memory we can call the Python functions `dir()`, `locals()` and `globals()`. However, in Jupyter notebooks the IPython command `whos` gives a more readable view."
   ]
  },
  {
   "cell_type": "code",
   "execution_count": 7,
   "metadata": {},
   "outputs": [
    {
     "name": "stdout",
     "output_type": "stream",
     "text": [
      "Variable   Type     Data/Info\n",
      "-----------------------------\n",
      "a          int      15\n",
      "b          int      15\n",
      "c          int      2\n",
      "x          int      1\n",
      "y          int      2\n",
      "z          float    3.5\n"
     ]
    }
   ],
   "source": [
    "whos"
   ]
  },
  {
   "cell_type": "markdown",
   "metadata": {},
   "source": [
    "To delete a variable we can use the function `del()` or the _magic_ command `%reset -f`."
   ]
  },
  {
   "cell_type": "code",
   "execution_count": 8,
   "metadata": {},
   "outputs": [],
   "source": [
    "del(x)"
   ]
  },
  {
   "cell_type": "code",
   "execution_count": 9,
   "metadata": {},
   "outputs": [],
   "source": [
    "%reset -f"
   ]
  },
  {
   "cell_type": "markdown",
   "metadata": {},
   "source": [
    "### Data types <a id='data-types'></a>\n",
    "\n",
    "The following cell introduces the basic 'primitive' data types in Python, which are listed in the following table.\n",
    "\n",
    "<table>\n",
    "  <tr>\n",
    "    <th>Type</th>\n",
    "    <th>Keyword</th>\n",
    "    <th>Values</th>\n",
    "    <th>Examples</th>\n",
    "  </tr>\n",
    "  <tr>\n",
    "    <th>Integer</th>\n",
    "    <td>int</td>\n",
    "    <td>integral numbers (no decimals)</td>\n",
    "    <td>-135 / -15 / 0 / 1 / 9 / 999</td>\n",
    "  </tr>\n",
    "  <tr>\n",
    "    <th>Float</th>\n",
    "    <td>float</td>\n",
    "    <td>real numbers (with decimals)</td>\n",
    "    <td>-15.3 / 0.0 / 1.5 / 1 / 9.142</td>\n",
    "  </tr>\n",
    "  <tr>\n",
    "    <th>Complex</th>\n",
    "    <td>complex</td>\n",
    "    <td>complex numbers</td>\n",
    "    <td>5+1j / -2+0j / 0-15j</td>\n",
    "  </tr>\n",
    "  <tr>\n",
    "    <th>Boolean</th>\n",
    "    <td>bool</td>\n",
    "    <td>binary / logical values</td>\n",
    "    <td>True / False</td>\n",
    "  </tr>\n",
    "  <tr>\n",
    "    <th>String</th>\n",
    "    <td>str</td>\n",
    "    <td>complex numbers</td>\n",
    "    <td>'Hello' / \"it's a text\" / 'C' / '123'</td>\n",
    "  </tr>\n",
    "  <tr>\n",
    "    <th>None Type</th>\n",
    "    <td>NoneType</td>\n",
    "    <td>single value for \"nothing\"</td>\n",
    "    <td>None</td>\n",
    "  </tr>\n",
    "</table> \n",
    "\n",
    "\n",
    "\n",
    "The Python function ``type(x)`` will return the data type of a variable ``x``. Also the data type is displayed with the command `whos`. Notice that in the following assignments the data type is never given explicitly! Instead Python will __automatically set the data type__, that fits best to the assigned value."
   ]
  },
  {
   "cell_type": "code",
   "execution_count": 10,
   "metadata": {
    "scrolled": false
   },
   "outputs": [
    {
     "name": "stdout",
     "output_type": "stream",
     "text": [
      "<class 'int'>\n"
     ]
    }
   ],
   "source": [
    "i = 1317         # Integer (int) [e.g. -1, 0, 1, 2, 3]\n",
    "f = 2.31         # Floating point number (float) [e.g. -1.0, -0.1, 0.0, 3.212, 1235.213, 13.5e2]\n",
    "c = 5 + 1j       # Complex number (complex) [e.g. 3 + 2j, cmath.sqrt(-1)]\n",
    "b = True         # Boolean (bool) [True,False or 0, 1]\n",
    "s = 'abcd'       # String (str) [e.g. 'Hello World!', 'a name', \"quotation marks used for apostrophes\"]\n",
    "n = None         # None (NoneType) [None]\n",
    "\n",
    "print(type(i))   # example usage of type(). However the command 'whos' will show the data type as well. "
   ]
  },
  {
   "cell_type": "code",
   "execution_count": 11,
   "metadata": {},
   "outputs": [
    {
     "name": "stdout",
     "output_type": "stream",
     "text": [
      "Variable   Type        Data/Info\n",
      "--------------------------------\n",
      "b          bool        True\n",
      "c          complex     (5+1j)\n",
      "f          float       2.31\n",
      "i          int         1317\n",
      "n          NoneType    None\n",
      "s          str         abcd\n"
     ]
    }
   ],
   "source": [
    "whos"
   ]
  },
  {
   "cell_type": "markdown",
   "metadata": {},
   "source": [
    "### Naming conventions <a id='naming-variables'></a>\n",
    "\n",
    "Names must only consist of letters and numbers. Actually letters from most alphabets like Ä,ö,Ø,И,ﮙ,λ etc. are allowed, but it's best practice to __use only the latin alphabet and numbers__! The only valid special character is the underscore. In addition, names __must not start with a number__ and __should not start with an underscore__. Usually: \n",
    "\n",
    "- __class names__ are written in 'CamelCase'\n",
    "- __functions__ and __variables__ in 'lower_case_with_underscores'\n",
    "- __constant values__ are written in 'BIG_LETTERS_WITH_UNDERSCORES'. \n",
    "\n",
    "Try to use names that are __meaningful and not longer than necessary__. Some examples are given in the following cell."
   ]
  },
  {
   "cell_type": "code",
   "execution_count": 12,
   "metadata": {},
   "outputs": [
    {
     "name": "stdout",
     "output_type": "stream",
     "text": [
      "8\n"
     ]
    }
   ],
   "source": [
    "# GOOD NAMES\n",
    "i = 1            # single letters are okay in a small context\n",
    "max_value = 255  # meaningful and self explaining name \n",
    "PI = 3.141       # big letters for constant values\n",
    "\n",
    "# BAD NAMES\n",
    "l = 1            # l and O are similar to 1 and 0\n",
    "O = 0\n",
    "λ = 7            # don't use other alphabets!\n",
    "ﮙ = 8\n",
    "print(ﮙ)         # even if it's valid"
   ]
  },
  {
   "cell_type": "markdown",
   "metadata": {},
   "source": [
    "Note that variable names __must not equal the Python keywords__:\n",
    "\n",
    "False, def, if, raise, None, del, import, return, True, elif, in, try, and, else, is, while, as, except, lambda, with, assert, finally, nonlocal, yield, break, for, not, class, from, or, continue, global, pass   \n",
    "\n",
    "Additional information regarding naming and conventions available [here](https://www.python.org/dev/peps/pep-0008/#naming-conventions)."
   ]
  },
  {
   "cell_type": "markdown",
   "metadata": {},
   "source": [
    "<h3 style=\"color: #ffffff; background-color: #00509B; padding: 1%\" >Operations<a id='operations'></a> </h3><br>\n",
    "\n",
    "### Arithmetic operations <a id='arithmetic-operations'></a>\n",
    "These are applied to numbers (integers, floats or complex). Usually we would assign the result a variable. If the result of the last expression in a cell is not assigned, it will be printed directly. We use this to make the examples cleaner."
   ]
  },
  {
   "cell_type": "code",
   "execution_count": 13,
   "metadata": {},
   "outputs": [
    {
     "data": {
      "text/plain": [
       "4"
      ]
     },
     "execution_count": 13,
     "metadata": {},
     "output_type": "execute_result"
    }
   ],
   "source": [
    "1 + 3       # addition"
   ]
  },
  {
   "cell_type": "code",
   "execution_count": 14,
   "metadata": {},
   "outputs": [
    {
     "data": {
      "text/plain": [
       "1"
      ]
     },
     "execution_count": 14,
     "metadata": {},
     "output_type": "execute_result"
    }
   ],
   "source": [
    "3 - 2       # subtraction"
   ]
  },
  {
   "cell_type": "code",
   "execution_count": 15,
   "metadata": {
    "scrolled": true
   },
   "outputs": [
    {
     "data": {
      "text/plain": [
       "4"
      ]
     },
     "execution_count": 15,
     "metadata": {},
     "output_type": "execute_result"
    }
   ],
   "source": [
    "2 * 2       # multiplication"
   ]
  },
  {
   "cell_type": "code",
   "execution_count": 16,
   "metadata": {},
   "outputs": [
    {
     "data": {
      "text/plain": [
       "2.0"
      ]
     },
     "execution_count": 16,
     "metadata": {},
     "output_type": "execute_result"
    }
   ],
   "source": [
    "4 / 2       # division (x will be a float because dividing two Integers will always return a float)"
   ]
  },
  {
   "cell_type": "code",
   "execution_count": 17,
   "metadata": {},
   "outputs": [
    {
     "data": {
      "text/plain": [
       "4"
      ]
     },
     "execution_count": 17,
     "metadata": {},
     "output_type": "execute_result"
    }
   ],
   "source": [
    "9 // 2      # floor division (returns the quotient of the euclidian devision)"
   ]
  },
  {
   "cell_type": "code",
   "execution_count": 18,
   "metadata": {},
   "outputs": [
    {
     "data": {
      "text/plain": [
       "1"
      ]
     },
     "execution_count": 18,
     "metadata": {},
     "output_type": "execute_result"
    }
   ],
   "source": [
    "9 % 2       # modulo (returns the remainder of the euclidian devision)"
   ]
  },
  {
   "cell_type": "code",
   "execution_count": 19,
   "metadata": {},
   "outputs": [
    {
     "data": {
      "text/plain": [
       "8"
      ]
     },
     "execution_count": 19,
     "metadata": {},
     "output_type": "execute_result"
    }
   ],
   "source": [
    "2**3        # exponentiation"
   ]
  },
  {
   "cell_type": "code",
   "execution_count": 20,
   "metadata": {
    "scrolled": true
   },
   "outputs": [
    {
     "data": {
      "text/plain": [
       "3.0"
      ]
     },
     "execution_count": 20,
     "metadata": {},
     "output_type": "execute_result"
    }
   ],
   "source": [
    "9**0.5      # root (using the exponentiation operator)"
   ]
  },
  {
   "cell_type": "markdown",
   "metadata": {},
   "source": [
    "#### Execution order:\n",
    "The execution order of operations depends on the precedence of the involved operations. Operations with same precedence will be executed from left to right (except for the 'power' operator). A detailed overview of the precedences is available [here](http://www.informit.com/articles/article.aspx?p=459269&seqNum=11>). Below two examples:"
   ]
  },
  {
   "cell_type": "code",
   "execution_count": 21,
   "metadata": {
    "scrolled": true
   },
   "outputs": [
    {
     "name": "stdout",
     "output_type": "stream",
     "text": [
      "19 0.25\n"
     ]
    }
   ],
   "source": [
    "a = 1 + 2 * 3**2  # exponents before multiplication before addition\n",
    "x = 1 / (2 * 2)   # multiplication and division have same precedence (usually left to right, but parentheses used here)\n",
    "print(a, x)"
   ]
  },
  {
   "cell_type": "markdown",
   "metadata": {},
   "source": [
    "### Boolean operations <a id='boolean-operations'></a>\n",
    "\n",
    "Boolean operations are applied to booleans. The essential operations are __and (&)__, __or (|)__, _xor_ __(^)__ and __not__."
   ]
  },
  {
   "cell_type": "code",
   "execution_count": 22,
   "metadata": {},
   "outputs": [
    {
     "name": "stdout",
     "output_type": "stream",
     "text": [
      "b1 and b2 =  True\n",
      " b1 or b2 =  True\n",
      "  b1 ^ b2 =  False\n",
      "   not b1 =  False\n"
     ]
    }
   ],
   "source": [
    "b1 = True\n",
    "b2 = True\n",
    "\n",
    "# and (result is true, if both conditions are true)\n",
    "b3 = b1 and b2\n",
    "print('b1 and b2 = ', b3)\n",
    "\n",
    "# or (result is true, if at least one condition is true)\n",
    "b3 = b1 or b2\n",
    "print(' b1 or b2 = ', b3)\n",
    "\n",
    "# xor (result is true, if exactly one condition is true)\n",
    "b3 = b1 ^ b2\n",
    "print('  b1 ^ b2 = ', b3)\n",
    "\n",
    "# not (will negate the boolean value)\n",
    "b3 = not b1\n",
    "print('   not b1 = ', b3)"
   ]
  },
  {
   "cell_type": "markdown",
   "metadata": {},
   "source": [
    "### Comparisons <a id='comparisons'></a>\n",
    "Comparisons are operations that compare two values and return a boolean value. \n",
    "\n",
    "Note that in the following examples the result of the comparison is assigned to the variable `b`:"
   ]
  },
  {
   "cell_type": "code",
   "execution_count": 23,
   "metadata": {},
   "outputs": [
    {
     "name": "stdout",
     "output_type": "stream",
     "text": [
      "True\n"
     ]
    }
   ],
   "source": [
    "b = 1 <= 5       # greater, smaller, greater or equal, smaller or equal\n",
    "print(b)"
   ]
  },
  {
   "cell_type": "code",
   "execution_count": 24,
   "metadata": {},
   "outputs": [
    {
     "name": "stdout",
     "output_type": "stream",
     "text": [
      "True\n"
     ]
    }
   ],
   "source": [
    "b = 1 == 1.0     # equal (here true because same value after implicit cast)\n",
    "print(b)"
   ]
  },
  {
   "cell_type": "code",
   "execution_count": 25,
   "metadata": {},
   "outputs": [
    {
     "name": "stdout",
     "output_type": "stream",
     "text": [
      "True\n"
     ]
    }
   ],
   "source": [
    "b = 'aa' < 'ab'  # comparing strings is valid (result depends on alphabetic order)\n",
    "print(b)"
   ]
  },
  {
   "cell_type": "code",
   "execution_count": 26,
   "metadata": {},
   "outputs": [
    {
     "name": "stdout",
     "output_type": "stream",
     "text": [
      "True\n"
     ]
    }
   ],
   "source": [
    "b = True > 0     # booleans can be seen as 1 (True) and 0 (False) \n",
    "print(b)         # -> comparison with integers is valid"
   ]
  },
  {
   "cell_type": "markdown",
   "metadata": {},
   "source": [
    "<h3 style=\"color: #ffffff; background-color: #00509B; padding: 1%\" >Conversions / casting<a id='conversions'></a> </h3><br>\n",
    "Conversion or casting means changing the data type of a variable. This can happen either explicitly or implicitly. The following cells will demonstrate this.\n",
    "\n",
    "#### Explicit conversions \n",
    "The syntax for explicit conversions is\n",
    "```python\n",
    "v2 = newtype(v)\n",
    "```\n",
    "where `v` is the variable to convert, `newtype` the new data type (e.g. `str` for string, `int` for integer or `bool` for booleans) and `v2` the variable, the result should be assigned to. Between the primitive data types, almost any conversion is valid. The following cell shows some examples:"
   ]
  },
  {
   "cell_type": "code",
   "execution_count": 27,
   "metadata": {
    "scrolled": true
   },
   "outputs": [
    {
     "name": "stdout",
     "output_type": "stream",
     "text": [
      "float(123) = 123.0\n",
      "float('5.1') = 5.1\n",
      "int(141.6) = 141\n",
      "int('-2341') = -2341\n",
      "str(15.3) = 15.3\n",
      "bool(-100.3) = True\n",
      "float(True) = 1.0\n",
      "complex(1.5) = (1.5+0j)\n",
      "complex('1.5+1j') = (1.5+1j)\n"
     ]
    }
   ],
   "source": [
    "f = float(123)   # integer to float\n",
    "print('float(123) =', f)\n",
    "\n",
    "f = float('5.1') # string to float (scientific notations like '2.3e3' or '-13.5e-5' are also convertable)\n",
    "print(\"float('5.1') =\", f)\n",
    "\n",
    "i = int(141.6)   # float to integer (this will drop decimals e.g. 1.9 -> 1 and -2.9 -> -2)\n",
    "print('int(141.6) =', i)\n",
    "\n",
    "i = int('-2341') # string to integer \n",
    "print(\"int('-2341') =\", i)\n",
    "\n",
    "s = str(15.3)    # float or integer to string\n",
    "print(\"str(15.3) =\", s)\n",
    "\n",
    "b = bool(-100.3) # float or integer to boolean (every number that is not zero or minus zero will be converted to 'True')\n",
    "print('bool(-100.3) =', b)\n",
    "\n",
    "i = float(True)  # boolean to float or integer ('True' will be converted to 1.0, 'False' to 0.0) \n",
    "print('float(True) =', i)\n",
    "\n",
    "c = complex(1.5) # float to complex\n",
    "print('complex(1.5) =', c)\n",
    "\n",
    "c = complex('1.5+1j') # string to complex\n",
    "print(\"complex('1.5+1j') =\", c)"
   ]
  },
  {
   "cell_type": "markdown",
   "metadata": {},
   "source": [
    "Invalid conversions will raise a `TypeError`:"
   ]
  },
  {
   "cell_type": "code",
   "execution_count": 28,
   "metadata": {
    "scrolled": false
   },
   "outputs": [],
   "source": [
    "#float(1.5+1j)   # this would raise a TypeError"
   ]
  },
  {
   "cell_type": "markdown",
   "metadata": {},
   "source": [
    "Nested casts are also possible:"
   ]
  },
  {
   "cell_type": "code",
   "execution_count": 29,
   "metadata": {},
   "outputs": [
    {
     "data": {
      "text/plain": [
       "1"
      ]
     },
     "execution_count": 29,
     "metadata": {},
     "output_type": "execute_result"
    }
   ],
   "source": [
    "int(bool(complex(float(str(1)))))"
   ]
  },
  {
   "cell_type": "markdown",
   "metadata": {},
   "source": [
    "#### Implicit conversions\n",
    "At some points conversions happen implicitly e.g. when the program requires a specific data type but gets another one, or when performing operations using variables of different data types:"
   ]
  },
  {
   "cell_type": "code",
   "execution_count": 30,
   "metadata": {},
   "outputs": [
    {
     "name": "stdout",
     "output_type": "stream",
     "text": [
      "1 + 1.0 = 2.0\n",
      "1.5 + True = 2.5\n",
      "5 * False = 0\n",
      "-5 and True = True\n",
      "not 0.0 = True\n"
     ]
    }
   ],
   "source": [
    "# adding float and integer will result in float (even if the result has no decimals)\n",
    "f = 1 + 1.0           \n",
    "print(\"1 + 1.0 =\", f)\n",
    "\n",
    "# booleans can implicitly be converted to Floats or Integers\n",
    "f = 1.5 + True        \n",
    "print(\"1.5 + True =\", f)\n",
    "i = 5 * False\n",
    "print(\"5 * False =\", i)\n",
    "\n",
    "# vice versa can floats and integers also be converted to booleans if they are connected by a boolean operation\n",
    "b = -5 and True\n",
    "print(\"-5 and True =\", b)\n",
    "b = not 0.0\n",
    "print(\"not 0.0 =\", b)"
   ]
  },
  {
   "cell_type": "markdown",
   "metadata": {},
   "source": [
    "__Note__ that with both, explicid and impicid conversions we __will not not modify__ a casted variable `v`, but instead create a temporary value, that represents `v` as a specific data type:"
   ]
  },
  {
   "cell_type": "code",
   "execution_count": 31,
   "metadata": {},
   "outputs": [
    {
     "name": "stdout",
     "output_type": "stream",
     "text": [
      "x: <class 'int'>\n",
      "y: <class 'float'>\n"
     ]
    }
   ],
   "source": [
    "x = 1                # x is an integer\n",
    "y = float(x)         # we assign y the float repr. of the value of x\n",
    "\n",
    "print('x:', type(x)) # x is still an integer\n",
    "print('y:', type(y)) # y is a float"
   ]
  },
  {
   "cell_type": "markdown",
   "metadata": {},
   "source": [
    "<h3 style=\"color: #ffffff; background-color: #00509B; padding: 1%\" >Decisions<a id='decisions'></a> </h3><br>\n",
    "Decisions and conditions are an essential part of programs. They are used to control the computation flow of the program. The keywords used for conditions are __if__, __elif__ and __else__. \n",
    "\n",
    "#### Single condition\n",
    "The most simple usage is the __if__ statement, followed by a condition and a colon. The conditional statements follow in a block. The statements inside the block are only executed, when the condition is (evaluated to) `True`."
   ]
  },
  {
   "cell_type": "code",
   "execution_count": 32,
   "metadata": {},
   "outputs": [
    {
     "name": "stdout",
     "output_type": "stream",
     "text": [
      "condition is True!\n",
      "still inside block!\n",
      "outside block!\n"
     ]
    }
   ],
   "source": [
    "condition = True\n",
    "if condition:                   \n",
    "    print('condition is True!')\n",
    "    print('still inside block!')\n",
    "print('outside block!')"
   ]
  },
  {
   "cell_type": "markdown",
   "metadata": {},
   "source": [
    "The following example has a more complex condition which will be evaluated to a boolean value. We use the __else__ keyword to introduce another block, that is only executed, when the condition is `False`."
   ]
  },
  {
   "cell_type": "code",
   "execution_count": 33,
   "metadata": {
    "scrolled": false
   },
   "outputs": [
    {
     "name": "stdout",
     "output_type": "stream",
     "text": [
      "x is greater than 5 and odd!\n"
     ]
    }
   ],
   "source": [
    "x = 7     \n",
    "\n",
    "if x > 5 and not x%2 == 0:       # statement will be evaluated to a boolean value\n",
    "    print('x is greater than 5 and odd!')\n",
    "else:\n",
    "    print('x is smaller/equal to 5 or even!')"
   ]
  },
  {
   "cell_type": "markdown",
   "metadata": {},
   "source": [
    "__Note__ that all kind of blocks can be nested. For example the condition in the example above can be separated. The result of the conditional expressions can be stored to improve readability (but this also adds two more lines to read):"
   ]
  },
  {
   "cell_type": "code",
   "execution_count": 34,
   "metadata": {},
   "outputs": [
    {
     "name": "stdout",
     "output_type": "stream",
     "text": [
      "x is greater than 5 and odd!\n"
     ]
    }
   ],
   "source": [
    "x = 7     \n",
    "\n",
    "is_greater_5 = x > 5\n",
    "is_odd       = x % 2 == 1\n",
    "\n",
    "if is_greater_5: \n",
    "    print('x is greater than 5', end=' ')\n",
    "    if is_odd:\n",
    "        print('and odd!')\n",
    "    else:\n",
    "        print('and even!')\n",
    "else:\n",
    "    print('x is smaller/equal to 5!')"
   ]
  },
  {
   "cell_type": "markdown",
   "metadata": {},
   "source": [
    "#### Complex decisions\n",
    "More complex structures can be built with the __elif__ (short for else if) and __else__ keywords. The conditions are checked, top-down untill one condition is `True`. If no condition is `True`, the else-block is executed (if it exists). The following cell demonstrates the usage."
   ]
  },
  {
   "cell_type": "code",
   "execution_count": 35,
   "metadata": {},
   "outputs": [
    {
     "name": "stdout",
     "output_type": "stream",
     "text": [
      "cond2 is True, cond1 is False\n"
     ]
    }
   ],
   "source": [
    "cond1 = False  # some boolean variables used as conditions\n",
    "cond2 = True\n",
    "cond3 = False\n",
    "\n",
    "if cond1:\n",
    "    print('cond1 is True')\n",
    "elif cond2:                 # will be checked if first condition is False\n",
    "    print('cond2 is True, cond1 is False')\n",
    "elif cond3:                 # will be checked if 1st and 2nd condition are False\n",
    "    print('cond3 is True , cond1 is False, cond2 is False')\n",
    "else:\n",
    "    print('no condition is True')"
   ]
  },
  {
   "cell_type": "markdown",
   "metadata": {},
   "source": [
    "#### Ternary if statement\n",
    "\n",
    "This expression can be used for single line if-else statements."
   ]
  },
  {
   "cell_type": "code",
   "execution_count": 109,
   "metadata": {},
   "outputs": [
    {
     "name": "stdout",
     "output_type": "stream",
     "text": [
      "-1\n"
     ]
    }
   ],
   "source": [
    "# possible implementation to get the sign of a value\n",
    "v = -3\n",
    "s = 1 if v >=0 else -1\n",
    "print(s)"
   ]
  },
  {
   "cell_type": "markdown",
   "metadata": {},
   "source": [
    "<h3 style=\"color: #ffffff; background-color: #00509B; padding: 1%\" >Built-in data types (lists, tuples)<a id='built-ins'></a> </h3><br>\n",
    "Besides the primitive data types presented before, Python offers many built-in data types. We will take a brief look at __lists__, __tuples__, which are very essential (also for the labs). In the additional topics you will find chapters about __dictionaries__ and __sets__.\n",
    "\n",
    "<h3 style=\"color: #ffffff; background-color: #00509B; padding: 1%\" >Lists<a id='lists'></a> </h3><br>\n",
    "A list is a ordered collection of elements. The elements data types can vary. A list is created using __brackets__:"
   ]
  },
  {
   "cell_type": "code",
   "execution_count": 36,
   "metadata": {},
   "outputs": [
    {
     "name": "stdout",
     "output_type": "stream",
     "text": [
      "Type:   <class 'list'>\n",
      "Values: [1.0, 'name', 15, True]\n"
     ]
    }
   ],
   "source": [
    "list1 = [1.0, 'name', 15, True]\n",
    "\n",
    "print('Type:  ', type(list1))\n",
    "print('Values:', list1)"
   ]
  },
  {
   "cell_type": "markdown",
   "metadata": {},
   "source": [
    "#### Indexing <a id='list-indexing'></a>\n",
    "\n",
    "The elements of a list are accessed by typing the name of the variable, followed by the index in brackets. Note that the __first element has the index 0__ which is usual for most programming languages but not matlab. Python supports negative indices, where -1 will give the last element of the list, -2 the second last and so on."
   ]
  },
  {
   "cell_type": "code",
   "execution_count": 37,
   "metadata": {},
   "outputs": [
    {
     "name": "stdout",
     "output_type": "stream",
     "text": [
      "first:  a\n",
      "second: b\n",
      "last:   f\n"
     ]
    }
   ],
   "source": [
    "#     0    1    2    3    4    5    <- indices\n",
    "L = ['a', 'b', 'c', 'd', 'e', 'f']\n",
    "\n",
    "first_element  = L[0]   # access first element of L\n",
    "second_element = L[1]   # access second element of L\n",
    "last_element   = L[-1]  # access last element of L (in this case equiv. to L[5])\n",
    "\n",
    "print('first: ', first_element)\n",
    "print('second:', second_element)\n",
    "print('last:  ', last_element)"
   ]
  },
  {
   "cell_type": "markdown",
   "metadata": {
    "collapsed": true
   },
   "source": [
    "Trying to access any element after the last one will __raise an IndexError__. <br>For example our created list has currently 6 elements, so the last element has the index 5. Trying to access the element at index 6 will fail:"
   ]
  },
  {
   "cell_type": "code",
   "execution_count": 38,
   "metadata": {},
   "outputs": [],
   "source": [
    "# print(L[6])       # this would rise an IndexError"
   ]
  },
  {
   "cell_type": "markdown",
   "metadata": {},
   "source": [
    "#### Slicing <a id='list-slicing'></a>\n",
    "\n",
    "Python supports slicing, similar to matlab. Slicing means accessing a part of a list. The syntax is\n",
    "\n",
    "`List[start:end:step]`\n",
    "\n",
    "where `start` is the start of the slice (included), `end` the end of the slice (excluded) and `step` the step width in between.\n",
    "When `start` is omitted, the slice will start from the first element. Omitting `end` will make the slice end with the last element. Omitting `step` will result in a step width of 1."
   ]
  },
  {
   "cell_type": "code",
   "execution_count": 39,
   "metadata": {},
   "outputs": [
    {
     "name": "stdout",
     "output_type": "stream",
     "text": [
      "['b', 'c']\n",
      "['b', 'd']\n"
     ]
    }
   ],
   "source": [
    "#     0    1    2    3    4    5    <- indices\n",
    "L = ['a', 'b', 'c', 'd', 'e', 'f']\n",
    "\n",
    "print(L[1:3])     # access elements from index 1 to 3 \n",
    "print(L[1:5:2])   # access all elements from 1 up to 5 with step width 2"
   ]
  },
  {
   "cell_type": "code",
   "execution_count": 40,
   "metadata": {},
   "outputs": [
    {
     "name": "stdout",
     "output_type": "stream",
     "text": [
      "['a', 'b', 'c']\n",
      "['d', 'e', 'f']\n"
     ]
    }
   ],
   "source": [
    "print(L[:3])      # access all elements up to index 3 \n",
    "print(L[3:])      # access all elements from index 3"
   ]
  },
  {
   "cell_type": "code",
   "execution_count": 41,
   "metadata": {},
   "outputs": [
    {
     "name": "stdout",
     "output_type": "stream",
     "text": [
      "['a', 'b', 'c', 'd', 'e', 'f']\n",
      "['f', 'e', 'd', 'c', 'b', 'a']\n"
     ]
    }
   ],
   "source": [
    "print(L[:])       # access all elements (creates a copy of L)\n",
    "print(L[::-1])    # access all elements with reversed order"
   ]
  },
  {
   "cell_type": "markdown",
   "metadata": {},
   "source": [
    "#### Editing <a id='list-editing'></a>\n",
    "Editing means changing values of a list without changing its shape."
   ]
  },
  {
   "cell_type": "code",
   "execution_count": 42,
   "metadata": {},
   "outputs": [
    {
     "name": "stdout",
     "output_type": "stream",
     "text": [
      "[1, 1, 1, 1]\n",
      "[0, 1, 1, 1]\n",
      "[0, 1, 2, 3]\n"
     ]
    }
   ],
   "source": [
    "list2 = [1, 1, 1, 1]\n",
    "print(list2)\n",
    "\n",
    "list2[0] = 0         # assign a new value to the first element\n",
    "print(list2)\n",
    "\n",
    "list2[2:4] = [2, 3]  # slices can be edited as well\n",
    "print(list2)"
   ]
  },
  {
   "cell_type": "markdown",
   "metadata": {},
   "source": [
    "#### Manipulation  <a id='list-manipulation'></a>\n",
    "\n",
    "A list can be manipulated using __append__, __extend__, __del__ or __remove__."
   ]
  },
  {
   "cell_type": "code",
   "execution_count": 43,
   "metadata": {},
   "outputs": [
    {
     "name": "stdout",
     "output_type": "stream",
     "text": [
      "[]\n",
      "[1]\n",
      "[1, 2, 3, 4]\n",
      "[1, 2, 0, 3, 4]\n",
      "[1, 2, 3, 4]\n",
      "[2, 3, 4]\n"
     ]
    }
   ],
   "source": [
    "list2 = []              # create an empty list\n",
    "print(list2)\n",
    "\n",
    "list2.append(1)         # appends one element\n",
    "print(list2)\n",
    "\n",
    "list2.extend([2, 3, 4]) # appends a sequence\n",
    "print(list2)\n",
    "\n",
    "list2.insert(2, 0)      # inserts 0 at index 2\n",
    "print(list2)\n",
    "\n",
    "del(list2[2])           # removes the element at index 2\n",
    "print(list2)\n",
    "\n",
    "list2.remove(1)         # removes the first element that is equal to the argument.. \n",
    "print(list2)            # .. raises an error if argument not in list"
   ]
  },
  {
   "cell_type": "markdown",
   "metadata": {},
   "source": [
    "#### More list operations <a id='more-list-operations'></a>\n",
    "The following cells should give an overview about the usage and capabilities of lists. In general it is better to learn what is possible first and then focus on the details (because the details can be quikly looked up)."
   ]
  },
  {
   "cell_type": "code",
   "execution_count": 44,
   "metadata": {},
   "outputs": [
    {
     "name": "stdout",
     "output_type": "stream",
     "text": [
      "[1, 2, 1, 2, 1, 2, 1, 2]\n"
     ]
    }
   ],
   "source": [
    "L = [1, 2] * 4                       # repeats the given list 4 times\n",
    "print(L)"
   ]
  },
  {
   "cell_type": "code",
   "execution_count": 45,
   "metadata": {},
   "outputs": [
    {
     "name": "stdout",
     "output_type": "stream",
     "text": [
      "[1, 2, 3, 4, 5, 6]\n"
     ]
    }
   ],
   "source": [
    "L = [1, 2] + [3, 4] + [5, 6]         # the + operator can be used to concatenate lists\n",
    "print(L)"
   ]
  },
  {
   "cell_type": "code",
   "execution_count": 46,
   "metadata": {},
   "outputs": [
    {
     "name": "stdout",
     "output_type": "stream",
     "text": [
      "[3, 2, 1]\n"
     ]
    }
   ],
   "source": [
    "L = [1, 2, 3]\n",
    "L.reverse()                          # reverse the elements in the list\n",
    "print(L)"
   ]
  },
  {
   "cell_type": "code",
   "execution_count": 47,
   "metadata": {},
   "outputs": [
    {
     "name": "stdout",
     "output_type": "stream",
     "text": [
      "2\n"
     ]
    }
   ],
   "source": [
    "L = [1, 2, 1, 3]\n",
    "n = L.count(1)                       # count occurences of a value\n",
    "print(n)"
   ]
  },
  {
   "cell_type": "code",
   "execution_count": 48,
   "metadata": {},
   "outputs": [
    {
     "name": "stdout",
     "output_type": "stream",
     "text": [
      "True\n"
     ]
    }
   ],
   "source": [
    "L = ['a', 'b', 'c']\n",
    "b = 'a' in L                         # x in L returns true if x matches at least one element in L\n",
    "print(b)"
   ]
  },
  {
   "cell_type": "code",
   "execution_count": 49,
   "metadata": {},
   "outputs": [
    {
     "name": "stdout",
     "output_type": "stream",
     "text": [
      "[1, 2, 2.5, 4, 5, 6, 8]\n"
     ]
    }
   ],
   "source": [
    "L = [5,8,2,6,4,2.5,1]\n",
    "L.sort()                             # sort list (only possible if values are comparable)\n",
    "print(L)"
   ]
  },
  {
   "cell_type": "code",
   "execution_count": 50,
   "metadata": {},
   "outputs": [
    {
     "name": "stdout",
     "output_type": "stream",
     "text": [
      "minimum = 1\n",
      "maximum = 8\n",
      " length = 7\n"
     ]
    }
   ],
   "source": [
    "L = [5,8,2,6,4,2.5,1]\n",
    "min_v  = min(L)                      # min(L) / max(L) will return minimum / maximum value in L\n",
    "max_v  = max(L)\n",
    "length = len(L)                      # len(L) will return the number of elements in L \n",
    "print('minimum =', min_v)\n",
    "print('maximum =', max_v)\n",
    "print(' length =', length)"
   ]
  },
  {
   "cell_type": "markdown",
   "metadata": {},
   "source": [
    "More information about lists available [here](https://docs.python.org/3/tutorial/datastructures.html>)."
   ]
  },
  {
   "cell_type": "markdown",
   "metadata": {},
   "source": [
    "<h3 style=\"color: #ffffff; background-color: #00509B; padding: 1%\" >Tuples<a id='tuples'></a> </h3><br>\n",
    "Tuples are very similar to lists with the essential difference, that they are __not mutable__. A tuple is created with the values in parentheses:"
   ]
  },
  {
   "cell_type": "code",
   "execution_count": 51,
   "metadata": {},
   "outputs": [
    {
     "name": "stdout",
     "output_type": "stream",
     "text": [
      "Type:   <class 'tuple'>\n",
      "Values: (False, 1.0, '2', 3)\n"
     ]
    }
   ],
   "source": [
    "T = (False, 1.0, '2', 3)      # creation of a tuple\n",
    "print('Type:  ', type(T))\n",
    "print('Values:', T)"
   ]
  },
  {
   "cell_type": "markdown",
   "metadata": {},
   "source": [
    "Once a tuple is initialized, it is neither valid to change its values nor to add/remove elements. E.g. trying to assign a new value to the first element in `T` will raise a __TypeError__:"
   ]
  },
  {
   "cell_type": "code",
   "execution_count": 52,
   "metadata": {},
   "outputs": [
    {
     "name": "stdout",
     "output_type": "stream",
     "text": [
      "False\n"
     ]
    }
   ],
   "source": [
    "print(T[0])                   # accessing elements is valid\n",
    "#T[0] = 1.0                   # will raise a TypeError"
   ]
  },
  {
   "cell_type": "markdown",
   "metadata": {},
   "source": [
    "Any list functionality does not modify the entries can also be applied to tuples. E.g. \n",
    "- indexing / slicing\n",
    "- the functions `max()` / `min()` / `len()`\n",
    "- the `in`-operator.<br>\n",
    "\n",
    "__Note:__ In many cases the parentheses are not required to create a tuple, but it is best practice to __use perenthesis__. Nevertheless the following cell is valid."
   ]
  },
  {
   "cell_type": "code",
   "execution_count": 53,
   "metadata": {},
   "outputs": [
    {
     "name": "stdout",
     "output_type": "stream",
     "text": [
      "(False, 1.0, '2', 3) <class 'tuple'>\n",
      "Values: (False, 1.0, '2', 3)\n"
     ]
    }
   ],
   "source": [
    "T = False, 1.0, '2', 3        # no parenthesis used to create the tuple\n",
    "print(T, type(T))\n",
    "print('Values:', T)"
   ]
  },
  {
   "cell_type": "markdown",
   "metadata": {},
   "source": [
    "More information about tuples is available [here](https://docs.python.org/3/tutorial/datastructures.html#tuples-and-sequences)."
   ]
  },
  {
   "cell_type": "markdown",
   "metadata": {},
   "source": [
    "<h3 style=\"color: #ffffff; background-color: #00509B; padding: 1%\" >Dictionaries<a id='dictionaries'></a> </h3><br>\n",
    "A dictionary is basically a __list of key-value pairs__ where every key is unique and points to exactly one value. Like with lists and tuples the data type of both the keys and the values can vary. A dictionary is constructed using __braces__. Inside the braces the keys and values are separated by a colon, the key-value pairs are separated by commas:"
   ]
  },
  {
   "cell_type": "code",
   "execution_count": 54,
   "metadata": {},
   "outputs": [
    {
     "name": "stdout",
     "output_type": "stream",
     "text": [
      "Type:   <class 'dict'>\n",
      "Values: {'a': 1, 'b': 2.0, 15: 'x'}\n"
     ]
    }
   ],
   "source": [
    "D = {'a':1, 'b':2.0, 15:'x'}   # a dictionary with 3 key-value pairs\n",
    "print('Type:  ', type(D))\n",
    "print('Values:', D)"
   ]
  },
  {
   "cell_type": "markdown",
   "metadata": {},
   "source": [
    "The value for a specific key in a dictionary `D` is accessed using the syntax `D[k]`, where k is the key. An error will be raised if the key is not in the dictionary."
   ]
  },
  {
   "cell_type": "code",
   "execution_count": 55,
   "metadata": {},
   "outputs": [
    {
     "name": "stdout",
     "output_type": "stream",
     "text": [
      "2\n"
     ]
    }
   ],
   "source": [
    "D = {'a':1,'b':2}\n",
    "v = D['b']         # access the value that corresponds to the key 'b'\n",
    "print(v)"
   ]
  },
  {
   "cell_type": "markdown",
   "metadata": {},
   "source": [
    "Modifying values of existing keys and adding new key-value pairs works in the same way:"
   ]
  },
  {
   "cell_type": "code",
   "execution_count": 56,
   "metadata": {},
   "outputs": [
    {
     "name": "stdout",
     "output_type": "stream",
     "text": [
      "{'a': 1, 'b': 2, 'c': 3}\n",
      "{'a': 1, 'b': 2, 'c': 5}\n"
     ]
    }
   ],
   "source": [
    "D = {'a':1,'b':2}\n",
    "D['c'] = 3         # add a new key 'c' with the value 3\n",
    "print(D)\n",
    "D['c'] = 5         # change the value of key 'c' to 5\n",
    "print(D)"
   ]
  },
  {
   "cell_type": "markdown",
   "metadata": {},
   "source": [
    "The `items()` method of dictionaries can be used to iterate over each key value pair. Alternatively it can be used to convert a dictionary to a list of tuples."
   ]
  },
  {
   "cell_type": "code",
   "execution_count": 57,
   "metadata": {},
   "outputs": [
    {
     "name": "stdout",
     "output_type": "stream",
     "text": [
      "('a', 1)\n",
      "('b', 2)\n",
      "('c', 5)\n"
     ]
    }
   ],
   "source": [
    "for d in D.items():\n",
    "    print(d)"
   ]
  },
  {
   "cell_type": "code",
   "execution_count": 58,
   "metadata": {},
   "outputs": [
    {
     "name": "stdout",
     "output_type": "stream",
     "text": [
      "[('a', 1), ('b', 2), ('c', 5)]\n"
     ]
    }
   ],
   "source": [
    "D_as_list = list(D.items())\n",
    "print(D_as_list)"
   ]
  },
  {
   "cell_type": "markdown",
   "metadata": {},
   "source": [
    "More information about dictionaries available [here](https://docs.python.org/3/tutorial/datastructures.html#dictionaries)."
   ]
  },
  {
   "cell_type": "markdown",
   "metadata": {},
   "source": [
    "<h3 style=\"color: #ffffff; background-color: #00509B; padding: 1%\" >Sets<a id='sets'></a> </h3><br>\n",
    "\n",
    "A set contains __unique__ elements in an __unordered__ fashion (varying data types allowed). Unique means, that every element will not occur more than one time in the set. Adding a element to a set, that already contains such a element will not modify the set. Unordered means, that the elements in a set don't have indices and though indexing or slicing is not possible. Sets are created similar to dictionarys but without colons:"
   ]
  },
  {
   "cell_type": "code",
   "execution_count": 59,
   "metadata": {},
   "outputs": [
    {
     "name": "stdout",
     "output_type": "stream",
     "text": [
      "Type:   <class 'set'>\n",
      "Values: {1, 2, 3}\n"
     ]
    }
   ],
   "source": [
    "S = {1,2,3,1}     # the element 1 will only be once in S, because sets do not allow dublicate entries \n",
    "print('Type:  ',type(S))\n",
    "print('Values:',S)"
   ]
  },
  {
   "cell_type": "markdown",
   "metadata": {},
   "source": [
    "Albeit sets don't support indexing, they allow some useful operations like computing the intersection, the union or the disjoints:"
   ]
  },
  {
   "cell_type": "code",
   "execution_count": 60,
   "metadata": {},
   "outputs": [
    {
     "name": "stdout",
     "output_type": "stream",
     "text": [
      "Elements in S1:                {1, 2, 4, 'a', 'b', 'd'}\n",
      "Elements in S2:                {'c', 1, 3, 4, 'a'}\n",
      "Elements in S1 and S2:         {1, 4, 'a'}\n",
      "Elements in S1 or S2:          {'c', 1, 2, 3, 4, 'a', 'b', 'd'}\n",
      "El. in S1 or S2, not in both:  {'c', 2, 3, 'b', 'd'}\n"
     ]
    }
   ],
   "source": [
    "S1 = {'a', 'b', 'd', 1, 2, 4}\n",
    "S2 = set((1, 3, 4, 'a', 'c'))   # alternative constructor (same as casting a tuple to a set)\n",
    "\n",
    "print('Elements in S1:               ', S1)\n",
    "print('Elements in S2:               ', S2)\n",
    "\n",
    "S_intersect = S1 & S2 # = S1.intersection(S2)\n",
    "print('Elements in S1 and S2:        ', S_intersect)\n",
    "\n",
    "S_union = S1 | S2 # = S1.union(S2)\n",
    "print('Elements in S1 or S2:         ', S_union)\n",
    "\n",
    "S_xor = S1 ^ S2 # = S1.difference(S2).union(S2.difference(S1)))\n",
    "print('El. in S1 or S2, not in both: ', S_xor)"
   ]
  },
  {
   "cell_type": "markdown",
   "metadata": {},
   "source": [
    "More information about sets is available [here](https://docs.python.org/3/tutorial/datastructures.html#sets)."
   ]
  },
  {
   "cell_type": "markdown",
   "metadata": {},
   "source": [
    "<h3 style=\"color: #ffffff; background-color: #00509B; padding: 1%\" >Loops<a id='loops'></a> </h3><br>\n",
    "\n",
    "### While loop <a id='while-loop'></a>\n",
    "\n",
    "The most simple loop is the while loop. The syntax is:\n",
    "```python\n",
    "while cond:\n",
    "    inside loop\n",
    "    still inside loop\n",
    "outside the loop\n",
    "```\n",
    "Where `cond` is a condition. The loop will repeat until the condition is evaluated to `False`. The following example runs a while-loop until there are no more elements in the list `L`. In each iteration the first element of `L` is removed."
   ]
  },
  {
   "cell_type": "code",
   "execution_count": 61,
   "metadata": {},
   "outputs": [
    {
     "name": "stdout",
     "output_type": "stream",
     "text": [
      "['a', 'b', 'c']\n",
      "['b', 'c']\n",
      "['c']\n",
      "done\n"
     ]
    }
   ],
   "source": [
    "L = ['a', 'b', 'c']  # create a list with 3 elements\n",
    "\n",
    "while len(L) > 0:    # iterate as long as L is not empty (number of elements greater than zero)\n",
    "    print(L)         # print whole list\n",
    "    del(L[0])        # delete the first element in L\n",
    "    \n",
    "print('done')"
   ]
  },
  {
   "cell_type": "markdown",
   "metadata": {},
   "source": [
    "### For loop <a id='for-loop'></a>\n",
    "\n",
    "Python offers a very simple for-in syntax to iterate over each element in a collections like a list, a tuple or a set:\n",
    "````python\n",
    "for a in B:\n",
    "    inside loop\n",
    "    still inside loop\n",
    "outside the loop\n",
    "````\n",
    "Here `B` is a collection of elements (like a list, set, tuple etc.) and `a` the variable that will take the values of the elements in `B`. The indented lines after the colon are executed in every loop. In the next cell we will use a for loop to iterate over the elements in a list and print each element:"
   ]
  },
  {
   "cell_type": "code",
   "execution_count": 62,
   "metadata": {
    "scrolled": true
   },
   "outputs": [
    {
     "name": "stdout",
     "output_type": "stream",
     "text": [
      "e1\n",
      "2\n",
      "3.5\n"
     ]
    }
   ],
   "source": [
    "L = ['e1', 2, 3.5]  # creating a list\n",
    "for elem in L:\n",
    "    print(elem)     # elem will take the value of each element in L"
   ]
  },
  {
   "cell_type": "markdown",
   "metadata": {},
   "source": [
    "For loops can also be used to execute a block `n` times, having a variable that holds the number of the iteration. To create such a loop, we can use Pythons `range()` method, which will create something similar to a list:"
   ]
  },
  {
   "cell_type": "code",
   "execution_count": 63,
   "metadata": {},
   "outputs": [
    {
     "name": "stdout",
     "output_type": "stream",
     "text": [
      "inside the loop..\n",
      "i = 0\n",
      "inside the loop..\n",
      "i = 1\n",
      "inside the loop..\n",
      "i = 2\n",
      "done\n"
     ]
    }
   ],
   "source": [
    "n = 3\n",
    "for i in range(n):    # range(3) creates the sequence [0, 1, 2]\n",
    "    print('inside the loop..')\n",
    "    print('i =', i)\n",
    "    \n",
    "print('done')"
   ]
  },
  {
   "cell_type": "markdown",
   "metadata": {},
   "source": [
    "If `range(x)` is called with only one argument, the loop will start at 0 and incrementing up to x (not included) with a stepwith of 1. More general, one can call `range()` with up to three arguments, which denote the start, stop and step with of the sequence. Two arguments denote start and stop (step width will be 1)."
   ]
  },
  {
   "cell_type": "code",
   "execution_count": 64,
   "metadata": {},
   "outputs": [
    {
     "name": "stdout",
     "output_type": "stream",
     "text": [
      "1\n",
      "3\n",
      "5\n"
     ]
    }
   ],
   "source": [
    "start = 1; stop = 6; step = 2\n",
    "\n",
    "for j in range(start, stop, step):\n",
    "    print(j)"
   ]
  },
  {
   "cell_type": "markdown",
   "metadata": {},
   "source": [
    "#### List comprehension\n",
    "The following example demonstrates a powerful feature in Python which uses the for-in syntax called list comprehension. More information available [here](https://docs.python.org/3/tutorial/datastructures.html#list-comprehensions)."
   ]
  },
  {
   "cell_type": "code",
   "execution_count": 65,
   "metadata": {},
   "outputs": [
    {
     "name": "stdout",
     "output_type": "stream",
     "text": [
      "[1, 4, 9, 16, 25, 36, 49, 64, 81, 100]\n"
     ]
    }
   ],
   "source": [
    "lst_sq = [x**2 for x in range(1, 11)] # 'for' inside brackets used to create a list\n",
    "print(lst_sq)                              "
   ]
  },
  {
   "cell_type": "markdown",
   "metadata": {},
   "source": [
    "#### Enumeration\n",
    "\n",
    "The __enumerate()__ function is very helpful when iterating over sequences and keeping track of the index"
   ]
  },
  {
   "cell_type": "code",
   "execution_count": 108,
   "metadata": {},
   "outputs": [
    {
     "name": "stdout",
     "output_type": "stream",
     "text": [
      "Element 0: a\n",
      "Element 1: b\n",
      "Element 2: c\n"
     ]
    }
   ],
   "source": [
    "L = ['a','b','c']\n",
    "for index, elem in enumerate(L):\n",
    "    print('Element {}: {}'.format(index, elem))"
   ]
  },
  {
   "cell_type": "markdown",
   "metadata": {},
   "source": [
    "#### Looping over two lists\n",
    "\n",
    "When it is necessary to iterate over two lists simultaneously one can use the built-in __zip()__ function. It takes multiple lists as arguments and creates a list-like object of touples, holding the corresponding elements of all lists. This is demonstrated in the next cell: "
   ]
  },
  {
   "cell_type": "code",
   "execution_count": 3,
   "metadata": {},
   "outputs": [
    {
     "name": "stdout",
     "output_type": "stream",
     "text": [
      "a 1 I\n",
      "b 2 II\n",
      "c 3 III\n"
     ]
    }
   ],
   "source": [
    "L1 = ['a', 'b', 'c']\n",
    "L2 = [1, 2, 3]\n",
    "L3 = ['I', 'II', 'III']\n",
    "\n",
    "for x,y,z in zip(L1, L2, L3):\n",
    "    print(x, y, z)"
   ]
  },
  {
   "cell_type": "markdown",
   "metadata": {},
   "source": [
    "### Break and continue <a id='break-and-continue'></a>\n",
    "\n",
    "When using loops, there are two essential keywords: ````break```` and ````continue````. \n",
    "- ````break````    (immediately step out of the loop)\n",
    "- ````continue```` (immediately start the next iteration)\n",
    "\n",
    "The following cells will demonstrate the usage of these keywords."
   ]
  },
  {
   "cell_type": "code",
   "execution_count": 66,
   "metadata": {},
   "outputs": [
    {
     "name": "stdout",
     "output_type": "stream",
     "text": [
      "[1, 3, 5, 7, 9]\n"
     ]
    }
   ],
   "source": [
    "L = []                # create an empty List\n",
    "\n",
    "for i in range(10):   # i will have the values [0,1,...,9]\n",
    "    if i % 2 == 0:    # if i is even..\n",
    "        continue      # ..jump to the next iteration\n",
    "    L.append(i)       # append the current value of i to L\n",
    "    \n",
    "print(L)"
   ]
  },
  {
   "cell_type": "code",
   "execution_count": 67,
   "metadata": {},
   "outputs": [
    {
     "name": "stdout",
     "output_type": "stream",
     "text": [
      "3\n"
     ]
    }
   ],
   "source": [
    "# example for getting the index of a specific value\n",
    "L = ['a','b','c','d']  \n",
    "t = 'd'\n",
    "i = 0\n",
    "while True:           # no condition (would run till infinity)\n",
    "    if L[i] == t:     # check if we found the value\n",
    "        break         # leave the loop\n",
    "    i += 1            # increment search index pos\n",
    "    \n",
    "print(i)"
   ]
  },
  {
   "cell_type": "markdown",
   "metadata": {},
   "source": [
    "Of course the example above is not a good way to get the index of an element, because it would result in an error, if `t` is not in `L`. Besides that, Python has already a solution for this task: "
   ]
  },
  {
   "cell_type": "code",
   "execution_count": 68,
   "metadata": {},
   "outputs": [
    {
     "name": "stdout",
     "output_type": "stream",
     "text": [
      "3\n"
     ]
    }
   ],
   "source": [
    "i = L.index(t)   # to be fair, this also raises an error if t is not in L\n",
    "print(i)"
   ]
  },
  {
   "cell_type": "markdown",
   "metadata": {},
   "source": [
    "<h3 style=\"color: #ffffff; background-color: #00509B; padding: 1%\" >Functions<a id='functions'></a> </h3><br>\n",
    "A function is a piece of code that can be used/called multiple times. A function is declared with the keyword __def__, followed by the functions name and the parameters in parentheses. It is followed by a colon and the function body. Functions can have a varying number of parameters (including zero parameters) which can be used for whatever computation in the body of the function. In the following cell, a function is defined and then used two times."
   ]
  },
  {
   "cell_type": "code",
   "execution_count": 69,
   "metadata": {},
   "outputs": [
    {
     "name": "stdout",
     "output_type": "stream",
     "text": [
      "hello\n",
      "world\n"
     ]
    }
   ],
   "source": [
    "#---------------DEFINITION OF say()--------------\n",
    "\n",
    "def say(text):      # definition of a function with one parameter \n",
    "    print(text)     # calling print()\n",
    "    \n",
    "#------------------USAGE OF say()----------------\n",
    "\n",
    "say('hello')        # calling say() \n",
    "say('world')        # calling say() again with a different argument"
   ]
  },
  {
   "cell_type": "markdown",
   "metadata": {},
   "source": [
    "In general, functions are used to take some arguments, do some computation with them and then return a value. Python functions will always __return exactly one value__. The following function takes two arguments and returns the absolute distance of them. We declare, which value should be returned with the keyword __return__ followed by the variable name."
   ]
  },
  {
   "cell_type": "code",
   "execution_count": 70,
   "metadata": {},
   "outputs": [
    {
     "name": "stdout",
     "output_type": "stream",
     "text": [
      "14.2\n"
     ]
    }
   ],
   "source": [
    "#---------------DEFINITION--------------\n",
    "\n",
    "def distance(x, y):    # definition of a function with two parameters\n",
    "    dist = abs(x-y)    # abs() is a python built-in function that returns the absolute value\n",
    "    return dist        # return the value of 'dist'\n",
    "\n",
    "#------------------USAGE----------------\n",
    "\n",
    "a = -1.5\n",
    "b = 12.7\n",
    "c = distance(a,b)   # calling distance() with arguments a and b. The result is assigned to c\n",
    "print(c)"
   ]
  },
  {
   "cell_type": "markdown",
   "metadata": {},
   "source": [
    "You may wonder what the function say() returned, because we did not use __return__ at all. By default any function will return the special value __None__. The following implementations are equivalent to the previous say() function. All of them return None."
   ]
  },
  {
   "cell_type": "code",
   "execution_count": 71,
   "metadata": {},
   "outputs": [
    {
     "name": "stdout",
     "output_type": "stream",
     "text": [
      "1\n",
      "2\n",
      "3\n",
      "None None None\n"
     ]
    }
   ],
   "source": [
    "def say1(text):   # first implementation, no return statement\n",
    "    print(text)\n",
    "    \n",
    "def say2(text):   # 2nd implementation, return without value\n",
    "    print(text)\n",
    "    return\n",
    "    \n",
    "def say3(text):   # 3rd implementation, explicitly returning None\n",
    "    print(text)\n",
    "    return None\n",
    "\n",
    "r1, r2, r3 = say1('1'), say('2'), say('3') # storing the return values of all functions\n",
    "\n",
    "print(r1,r2,r3)"
   ]
  },
  {
   "cell_type": "markdown",
   "metadata": {},
   "source": [
    "#### Multiple return types\n",
    "Functions can return multiple elements by implicitly using tuples (here one usually doesn't use the parentheses to declare tuples)."
   ]
  },
  {
   "cell_type": "code",
   "execution_count": 72,
   "metadata": {},
   "outputs": [
    {
     "name": "stdout",
     "output_type": "stream",
     "text": [
      "15 / 7 = 2 R: 1\n"
     ]
    }
   ],
   "source": [
    "def divide_euclidian(dividend,divisor):\n",
    "    quotient = dividend // divisor\n",
    "    remainder = dividend % divisor\n",
    "    return quotient, remainder         # same as: return (quotient, remainder)\n",
    "\n",
    "q, r = divide_euclidian(15, 7)         # same as: (q, r) = divide_euclidian(15,7)\n",
    "print('15 / 7 = {} R: {}'.format(q, r))"
   ]
  },
  {
   "cell_type": "markdown",
   "metadata": {},
   "source": [
    "__Info:__ Python already offers this function:"
   ]
  },
  {
   "cell_type": "code",
   "execution_count": 73,
   "metadata": {},
   "outputs": [
    {
     "name": "stdout",
     "output_type": "stream",
     "text": [
      "15 / 7 = 2 R: 1\n"
     ]
    }
   ],
   "source": [
    "q, r = divmod(15,7)\n",
    "print('15 / 7 = {} R: {}'.format(q, r))"
   ]
  },
  {
   "cell_type": "markdown",
   "metadata": {},
   "source": [
    "#### Keyword parameters\n",
    "Functions can have optional keyword parameters. These keyword parameters are always the last (rightmost) parameters of all. They are declared by a following equal sign and the default value. The following function has one obligatory and one optional parameters. In this example the optional parameter is used as a so called 'flag' (like an on-off switch). In general keyword arguments can have any type."
   ]
  },
  {
   "cell_type": "code",
   "execution_count": 74,
   "metadata": {
    "scrolled": true
   },
   "outputs": [
    {
     "name": "stdout",
     "output_type": "stream",
     "text": [
      "square(2) was called!\n"
     ]
    }
   ],
   "source": [
    "def square(a, verbose=False):     # optional keyword parameter (here a bool)\n",
    "    if verbose:\n",
    "        print('square({}) was called!'.format(a))\n",
    "    return a**2\n",
    "\n",
    "sq1 = square(1)                   # nothing will be printed\n",
    "sq2 = square(2, verbose=True)     # will print the message"
   ]
  },
  {
   "cell_type": "markdown",
   "metadata": {},
   "source": [
    "<h3 style=\"color: #ffffff; background-color: #00509B; padding: 1%\" >Built-in functions and modules<a id='built-in-functions'></a> </h3><br>\n",
    "\n",
    "Python provides many built-in functions. Some essential functions are used in the next cell. A complete list is available at [programiz.com](https://www.programiz.com/python-programming/methods). Note that different Python versions may provide more/less built-in functions."
   ]
  },
  {
   "cell_type": "code",
   "execution_count": 75,
   "metadata": {
    "scrolled": true
   },
   "outputs": [
    {
     "name": "stdout",
     "output_type": "stream",
     "text": [
      "max(1, 9, -5) = 9\n",
      "min(-3, 3, 0) = -3\n",
      "abs(-2)       = 2\n"
     ]
    }
   ],
   "source": [
    "print('max(1, 9, -5) =', max(1, 9, -5))    # max(a, b, ..) returns the biggest value\n",
    "print('min(-3, 3, 0) =', min(-3, 3, 0))    # min(a, b, ..) returns the smallest value\n",
    "print('abs(-2)       =', abs(-2))          # abs(x)        returns the absolute value"
   ]
  },
  {
   "cell_type": "markdown",
   "metadata": {},
   "source": [
    "__Note__ that there are built-in functions like `del()` which are Python keywords and others like `max()`, which are no keywords. Unlike keyword built-ins, the __non-keyword built-ins can be overwritten__! This is demonstrated in the following cell:"
   ]
  },
  {
   "cell_type": "code",
   "execution_count": 76,
   "metadata": {},
   "outputs": [
    {
     "name": "stdout",
     "output_type": "stream",
     "text": [
      "max:         <built-in function max>\n",
      "type of max: <class 'builtin_function_or_method'>\n",
      "max(1,2):    2\n",
      "\n",
      "overwriting max!\n",
      "\n",
      "max:         12345\n",
      "type of max: <class 'int'>\n"
     ]
    }
   ],
   "source": [
    "# Example, that built-ins can be overwritten!\n",
    "\n",
    "print('max:        ', max)\n",
    "print('type of max:', type(max))\n",
    "print('max(1,2):   ', max(1,2))\n",
    "#del(max)                             # ERROR (name 'max' is not defined)\n",
    "\n",
    "print('\\noverwriting max!\\n')\n",
    "max = 12345\n",
    "\n",
    "print('max:        ', max)\n",
    "print('type of max:', type(max))\n",
    "#print('max(1,2):   ', max(1,2))      # ERROR ('int' object is not callable)\n",
    "del(max)"
   ]
  },
  {
   "cell_type": "markdown",
   "metadata": {},
   "source": [
    "### Importing modules\n",
    "We can additionally import modules like the `math` module to have access to the functionalities of that module. We can use the `dir()` function to list the available functionalities."
   ]
  },
  {
   "cell_type": "code",
   "execution_count": 77,
   "metadata": {},
   "outputs": [],
   "source": [
    "import math     # import the math module to use its features\n",
    "#dir(math)      # list functionalities of a module"
   ]
  },
  {
   "cell_type": "markdown",
   "metadata": {},
   "source": [
    "At this point we will introduce another helpful IPython feature. We can append a question mark to any module, variable, \n",
    "function or class, to show additional information and the documentation about it (alternatively click on a function press [SHIFT]+[TAB]): "
   ]
  },
  {
   "cell_type": "code",
   "execution_count": 78,
   "metadata": {},
   "outputs": [],
   "source": [
    "math.log10?"
   ]
  },
  {
   "cell_type": "code",
   "execution_count": 79,
   "metadata": {},
   "outputs": [],
   "source": [
    "math.pi?"
   ]
  },
  {
   "cell_type": "markdown",
   "metadata": {},
   "source": [
    "To access / use a functionality we use the dot-operator (a dot between the module name and the function / variable)."
   ]
  },
  {
   "cell_type": "code",
   "execution_count": 80,
   "metadata": {
    "scrolled": true
   },
   "outputs": [
    {
     "name": "stdout",
     "output_type": "stream",
     "text": [
      "4.0\n",
      "3.141592653589793\n",
      "1.0\n"
     ]
    }
   ],
   "source": [
    "x = math.log10(10000) # logarithm with base 10\n",
    "print(x)\n",
    "\n",
    "p = math.pi           # the constant pi\n",
    "print(p)\n",
    "\n",
    "y = math.cos(2*math.pi)\n",
    "print(y)"
   ]
  },
  {
   "cell_type": "markdown",
   "metadata": {},
   "source": [
    "<h3 style=\"color: #ffffff; background-color: #00509B; padding: 1%\" >Classes<a id='classes'></a> </h3><br>\n",
    "Classes can be seen as definitions of particular objects including constructors, attributes and methods. The general idea is that we define a class in order to create multiple instances of it, that all share some functionalities. Today the object oriented programming (OOG) is used in most programs.\n",
    "\n",
    "#### Class definition\n",
    "The following cell defines the class `dog`. The class contains multiple methods (methods are functions of a class)."
   ]
  },
  {
   "cell_type": "code",
   "execution_count": 81,
   "metadata": {},
   "outputs": [],
   "source": [
    "class dog:                        # the definition of a class starts with the class keyword and the name of the class\n",
    "    def __init__(self, name):     # the init method defines the creation of an instance of this class\n",
    "        self.name = name      \n",
    "        self.age = 0              # our dogs will have two attributes: name and age. 'self' refers to the new dog-object\n",
    "        \n",
    "    def celebrate_birthday(self): # this method will increase the age of the corresponding object by one\n",
    "        self.age += 1\n",
    "    \n",
    "    def rename(self, new_name):   # this method takes a new name as argument and assignes it to the dogs name\n",
    "        self.name = new_name\n",
    "    \n",
    "    def __str__(self):            # definition how to cast a dog to a printable string\n",
    "        return '{}, {} years old'.format(self.name, self.age)"
   ]
  },
  {
   "cell_type": "markdown",
   "metadata": {},
   "source": [
    "#### Class usage\n",
    "Now we will create two instances of that class and use some of their methods."
   ]
  },
  {
   "cell_type": "code",
   "execution_count": 82,
   "metadata": {},
   "outputs": [
    {
     "name": "stdout",
     "output_type": "stream",
     "text": [
      "Bonnie, 5 years old\n",
      "Clyde, 5 years old\n",
      "5\n"
     ]
    }
   ],
   "source": [
    "dog1 = dog('Bonny')               # initialization of a dog. Note that only one argument is given (the name)\n",
    "dog2 = dog('Clyde')               # 'self' is always passed implicitly\n",
    "\n",
    "dog1.rename('Bonnie')             # call of dog1s rename method with dot operator \n",
    "\n",
    "for i in range(5):\n",
    "    dog1.celebrate_birthday()\n",
    "    dog2.celebrate_birthday()     # call celebrate_birthday() 5 times for both dogs\n",
    "\n",
    "print(dog1)\n",
    "print(dog2)                       # print will implicitly use our implemented string conversion\n",
    "\n",
    "print(dog1.age)                   # access attribute of dog1 with dot operator"
   ]
  },
  {
   "cell_type": "markdown",
   "metadata": {},
   "source": [
    "Additional information about classes is available e.g. at the [official python documentation](https://docs.python.org/3/tutorial/classes.html)."
   ]
  },
  {
   "cell_type": "markdown",
   "metadata": {},
   "source": [
    "<h3 style=\"color: #ffffff; background-color: #00509B; padding: 1%\" >Assertions<a id='assertions'></a> </h3><br>\n",
    "Assertions are a nice way to prevent unexpected behavior of code. Let's consider an example function that divides two numbers. The division is only valid, if the divisor is not zero. So in our code we can simply make the assertion that this is not the case and add a reason to document this. The syntax for assertions is\n",
    "```python\n",
    "assert statement, \"Message(optional)\"\n",
    "```\n",
    "Where the `statement` is a variable or expression, that can be evaluated to a single boolean value.\n",
    "\n",
    "The division example could be implemented like this:"
   ]
  },
  {
   "cell_type": "code",
   "execution_count": 83,
   "metadata": {},
   "outputs": [],
   "source": [
    "def divide(dividend, divisor):\n",
    "    assert divisor != 0, \"Division by zero not valid!\"\n",
    "    return dividend/divisor"
   ]
  },
  {
   "cell_type": "markdown",
   "metadata": {},
   "source": [
    "Let us now try to call that function with an invalid divisor:"
   ]
  },
  {
   "cell_type": "code",
   "execution_count": 84,
   "metadata": {},
   "outputs": [
    {
     "ename": "AssertionError",
     "evalue": "Division by zero not valid!",
     "output_type": "error",
     "traceback": [
      "\u001b[1;31m---------------------------------------------------------------------------\u001b[0m",
      "\u001b[1;31mAssertionError\u001b[0m                            Traceback (most recent call last)",
      "\u001b[1;32m<ipython-input-84-bfb753171451>\u001b[0m in \u001b[0;36m<module>\u001b[1;34m()\u001b[0m\n\u001b[1;32m----> 1\u001b[1;33m \u001b[0mresult\u001b[0m \u001b[1;33m=\u001b[0m \u001b[0mdivide\u001b[0m\u001b[1;33m(\u001b[0m\u001b[1;36m1\u001b[0m\u001b[1;33m,\u001b[0m \u001b[1;36m0\u001b[0m\u001b[1;33m)\u001b[0m\u001b[1;33m\u001b[0m\u001b[0m\n\u001b[0m",
      "\u001b[1;32m<ipython-input-83-c62598d57140>\u001b[0m in \u001b[0;36mdivide\u001b[1;34m(dividend, divisor)\u001b[0m\n\u001b[0;32m      1\u001b[0m \u001b[1;32mdef\u001b[0m \u001b[0mdivide\u001b[0m\u001b[1;33m(\u001b[0m\u001b[0mdividend\u001b[0m\u001b[1;33m,\u001b[0m \u001b[0mdivisor\u001b[0m\u001b[1;33m)\u001b[0m\u001b[1;33m:\u001b[0m\u001b[1;33m\u001b[0m\u001b[0m\n\u001b[1;32m----> 2\u001b[1;33m     \u001b[1;32massert\u001b[0m \u001b[0mdivisor\u001b[0m \u001b[1;33m!=\u001b[0m \u001b[1;36m0\u001b[0m\u001b[1;33m,\u001b[0m \u001b[1;34m\"Division by zero not valid!\"\u001b[0m\u001b[1;33m\u001b[0m\u001b[0m\n\u001b[0m\u001b[0;32m      3\u001b[0m     \u001b[1;32mreturn\u001b[0m \u001b[0mdividend\u001b[0m\u001b[1;33m/\u001b[0m\u001b[0mdivisor\u001b[0m\u001b[1;33m\u001b[0m\u001b[0m\n",
      "\u001b[1;31mAssertionError\u001b[0m: Division by zero not valid!"
     ]
    }
   ],
   "source": [
    "result = divide(1, 0)"
   ]
  },
  {
   "cell_type": "markdown",
   "metadata": {},
   "source": [
    "This will raise an AssertionError with our message, so we directly know what we did wrong. Maybe this is not the best example, because without the assertion the call would raise a ZeroDivisionError, which is also pretty obvious, but the general idea should be clear."
   ]
  },
  {
   "cell_type": "markdown",
   "metadata": {},
   "source": [
    "<h3 style=\"color: #ffffff; background-color: #00509B; padding: 1%\" >Common errors<a id='common-errors'></a> </h3><br>\n",
    "This chapter provides some code examples that raise different errors. Understanding the reasons for these errors might help you debugging your first programs! There are much more error types, than the ones listed below. If you are confronted with an unknown error, you may take a look at [this documentation](https://docs.python.org/3/library/exceptions.html) or simply google for it.\n",
    "\n",
    "#### SyntaxError"
   ]
  },
  {
   "cell_type": "code",
   "execution_count": 85,
   "metadata": {
    "scrolled": true
   },
   "outputs": [
    {
     "ename": "SyntaxError",
     "evalue": "invalid syntax (<ipython-input-85-fbe96dcb0c90>, line 1)",
     "output_type": "error",
     "traceback": [
      "\u001b[1;36m  File \u001b[1;32m\"<ipython-input-85-fbe96dcb0c90>\"\u001b[1;36m, line \u001b[1;32m1\u001b[0m\n\u001b[1;33m    y =                      # incomplete statement\u001b[0m\n\u001b[1;37m                                                   ^\u001b[0m\n\u001b[1;31mSyntaxError\u001b[0m\u001b[1;31m:\u001b[0m invalid syntax\n"
     ]
    }
   ],
   "source": [
    "y =                      # incomplete statement"
   ]
  },
  {
   "cell_type": "code",
   "execution_count": 86,
   "metadata": {},
   "outputs": [
    {
     "ename": "SyntaxError",
     "evalue": "invalid syntax (<ipython-input-86-7d4e5ab904ff>, line 1)",
     "output_type": "error",
     "traceback": [
      "\u001b[1;36m  File \u001b[1;32m\"<ipython-input-86-7d4e5ab904ff>\"\u001b[1;36m, line \u001b[1;32m1\u001b[0m\n\u001b[1;33m    x = (1+2) * ((3+5)/3))   # additional parentheses\u001b[0m\n\u001b[1;37m                         ^\u001b[0m\n\u001b[1;31mSyntaxError\u001b[0m\u001b[1;31m:\u001b[0m invalid syntax\n"
     ]
    }
   ],
   "source": [
    "x = (1+2) * ((3+5)/3))   # additional parentheses"
   ]
  },
  {
   "cell_type": "code",
   "execution_count": 87,
   "metadata": {},
   "outputs": [
    {
     "ename": "SyntaxError",
     "evalue": "unexpected EOF while parsing (<ipython-input-87-f684cc964df7>, line 1)",
     "output_type": "error",
     "traceback": [
      "\u001b[1;36m  File \u001b[1;32m\"<ipython-input-87-f684cc964df7>\"\u001b[1;36m, line \u001b[1;32m1\u001b[0m\n\u001b[1;33m    x = (1+2) * ((3+5)/3     # missing parentheses\u001b[0m\n\u001b[1;37m                                                  ^\u001b[0m\n\u001b[1;31mSyntaxError\u001b[0m\u001b[1;31m:\u001b[0m unexpected EOF while parsing\n"
     ]
    }
   ],
   "source": [
    "x = (1+2) * ((3+5)/3     # missing parentheses"
   ]
  },
  {
   "cell_type": "markdown",
   "metadata": {},
   "source": [
    "#### IndentationError"
   ]
  },
  {
   "cell_type": "code",
   "execution_count": 88,
   "metadata": {
    "scrolled": true
   },
   "outputs": [
    {
     "ename": "IndentationError",
     "evalue": "expected an indented block (<ipython-input-88-34b81d45b027>, line 2)",
     "output_type": "error",
     "traceback": [
      "\u001b[1;36m  File \u001b[1;32m\"<ipython-input-88-34b81d45b027>\"\u001b[1;36m, line \u001b[1;32m2\u001b[0m\n\u001b[1;33m    x = 1                    # missing indentation\u001b[0m\n\u001b[1;37m    ^\u001b[0m\n\u001b[1;31mIndentationError\u001b[0m\u001b[1;31m:\u001b[0m expected an indented block\n"
     ]
    }
   ],
   "source": [
    "if True:\n",
    "x = 1                    # missing indentation"
   ]
  },
  {
   "cell_type": "code",
   "execution_count": 89,
   "metadata": {},
   "outputs": [
    {
     "ename": "IndentationError",
     "evalue": "unexpected indent (<ipython-input-89-c9c618659aa0>, line 2)",
     "output_type": "error",
     "traceback": [
      "\u001b[1;36m  File \u001b[1;32m\"<ipython-input-89-c9c618659aa0>\"\u001b[1;36m, line \u001b[1;32m2\u001b[0m\n\u001b[1;33m    b = 2                   # invalid indentation\u001b[0m\n\u001b[1;37m    ^\u001b[0m\n\u001b[1;31mIndentationError\u001b[0m\u001b[1;31m:\u001b[0m unexpected indent\n"
     ]
    }
   ],
   "source": [
    "a = 1\n",
    " b = 2                   # invalid indentation"
   ]
  },
  {
   "cell_type": "markdown",
   "metadata": {},
   "source": [
    "#### TypeError"
   ]
  },
  {
   "cell_type": "code",
   "execution_count": 90,
   "metadata": {},
   "outputs": [
    {
     "ename": "TypeError",
     "evalue": "abs() takes exactly one argument (0 given)",
     "output_type": "error",
     "traceback": [
      "\u001b[1;31m---------------------------------------------------------------------------\u001b[0m",
      "\u001b[1;31mTypeError\u001b[0m                                 Traceback (most recent call last)",
      "\u001b[1;32m<ipython-input-90-db1c3457168d>\u001b[0m in \u001b[0;36m<module>\u001b[1;34m()\u001b[0m\n\u001b[1;32m----> 1\u001b[1;33m \u001b[0mabs\u001b[0m\u001b[1;33m(\u001b[0m\u001b[1;33m)\u001b[0m                    \u001b[1;31m# calling abs() with no arguments (one argument required)\u001b[0m\u001b[1;33m\u001b[0m\u001b[0m\n\u001b[0m",
      "\u001b[1;31mTypeError\u001b[0m: abs() takes exactly one argument (0 given)"
     ]
    }
   ],
   "source": [
    "abs()                    # calling abs() with no arguments (one argument required)"
   ]
  },
  {
   "cell_type": "code",
   "execution_count": 91,
   "metadata": {
    "scrolled": true
   },
   "outputs": [
    {
     "ename": "TypeError",
     "evalue": "'int' object is not iterable",
     "output_type": "error",
     "traceback": [
      "\u001b[1;31m---------------------------------------------------------------------------\u001b[0m",
      "\u001b[1;31mTypeError\u001b[0m                                 Traceback (most recent call last)",
      "\u001b[1;32m<ipython-input-91-bfe63526b606>\u001b[0m in \u001b[0;36m<module>\u001b[1;34m()\u001b[0m\n\u001b[1;32m----> 1\u001b[1;33m \u001b[0ma\u001b[0m\u001b[1;33m,\u001b[0m\u001b[0mb\u001b[0m \u001b[1;33m=\u001b[0m \u001b[0mabs\u001b[0m\u001b[1;33m(\u001b[0m\u001b[1;36m1\u001b[0m\u001b[1;33m)\u001b[0m             \u001b[1;31m# trying to asign the result of abs() to a tuple (only one return value)\u001b[0m\u001b[1;33m\u001b[0m\u001b[0m\n\u001b[0m",
      "\u001b[1;31mTypeError\u001b[0m: 'int' object is not iterable"
     ]
    }
   ],
   "source": [
    "a,b = abs(1)             # trying to assign the result of abs() to a tuple (only one return value)"
   ]
  },
  {
   "cell_type": "code",
   "execution_count": 92,
   "metadata": {
    "scrolled": true
   },
   "outputs": [
    {
     "ename": "TypeError",
     "evalue": "'int' object is not subscriptable",
     "output_type": "error",
     "traceback": [
      "\u001b[1;31m---------------------------------------------------------------------------\u001b[0m",
      "\u001b[1;31mTypeError\u001b[0m                                 Traceback (most recent call last)",
      "\u001b[1;32m<ipython-input-92-dd699019f98a>\u001b[0m in \u001b[0;36m<module>\u001b[1;34m()\u001b[0m\n\u001b[0;32m      1\u001b[0m \u001b[0ma\u001b[0m \u001b[1;33m=\u001b[0m \u001b[1;36m1\u001b[0m\u001b[1;33m\u001b[0m\u001b[0m\n\u001b[1;32m----> 2\u001b[1;33m \u001b[0ma\u001b[0m\u001b[1;33m[\u001b[0m\u001b[1;36m0\u001b[0m\u001b[1;33m]\u001b[0m                     \u001b[1;31m# trying to access first element of integer (non sequence object)\u001b[0m\u001b[1;33m\u001b[0m\u001b[0m\n\u001b[0m",
      "\u001b[1;31mTypeError\u001b[0m: 'int' object is not subscriptable"
     ]
    }
   ],
   "source": [
    "a = 1\n",
    "a[0]                     # trying to access first element of integer (non sequence object)"
   ]
  },
  {
   "cell_type": "code",
   "execution_count": 93,
   "metadata": {
    "scrolled": true
   },
   "outputs": [
    {
     "ename": "TypeError",
     "evalue": "'int' object is not callable",
     "output_type": "error",
     "traceback": [
      "\u001b[1;31m---------------------------------------------------------------------------\u001b[0m",
      "\u001b[1;31mTypeError\u001b[0m                                 Traceback (most recent call last)",
      "\u001b[1;32m<ipython-input-93-e083f2705fea>\u001b[0m in \u001b[0;36m<module>\u001b[1;34m()\u001b[0m\n\u001b[0;32m      1\u001b[0m \u001b[0ma\u001b[0m \u001b[1;33m=\u001b[0m \u001b[1;36m1\u001b[0m\u001b[1;33m\u001b[0m\u001b[0m\n\u001b[1;32m----> 2\u001b[1;33m \u001b[0ma\u001b[0m\u001b[1;33m(\u001b[0m\u001b[1;33m)\u001b[0m                      \u001b[1;31m# parentheses indicate that a() is a method, but it is not\u001b[0m\u001b[1;33m\u001b[0m\u001b[0m\n\u001b[0m",
      "\u001b[1;31mTypeError\u001b[0m: 'int' object is not callable"
     ]
    }
   ],
   "source": [
    "a = 1\n",
    "a()                      # parentheses indicate that a() is a method, but it is not"
   ]
  },
  {
   "cell_type": "markdown",
   "metadata": {},
   "source": [
    "#### ValueError"
   ]
  },
  {
   "cell_type": "code",
   "execution_count": 94,
   "metadata": {},
   "outputs": [
    {
     "ename": "ValueError",
     "evalue": "invalid literal for int() with base 10: '1.5'",
     "output_type": "error",
     "traceback": [
      "\u001b[1;31m---------------------------------------------------------------------------\u001b[0m",
      "\u001b[1;31mValueError\u001b[0m                                Traceback (most recent call last)",
      "\u001b[1;32m<ipython-input-94-eee59e071eac>\u001b[0m in \u001b[0;36m<module>\u001b[1;34m()\u001b[0m\n\u001b[1;32m----> 1\u001b[1;33m \u001b[0mint\u001b[0m\u001b[1;33m(\u001b[0m\u001b[1;34m'1.5'\u001b[0m\u001b[1;33m)\u001b[0m               \u001b[1;31m# string cannot be converted to int\u001b[0m\u001b[1;33m\u001b[0m\u001b[0m\n\u001b[0m",
      "\u001b[1;31mValueError\u001b[0m: invalid literal for int() with base 10: '1.5'"
     ]
    }
   ],
   "source": [
    "int('1.5')               # string cannot be converted to int"
   ]
  },
  {
   "cell_type": "markdown",
   "metadata": {},
   "source": [
    "<h3 style=\"color: #ffffff; background-color: #00509B; padding: 1%\" >Catching errors<a id='catching-errors'></a> </h3><br>\n",
    "Programs (or functions) that cause errors are not always _wrong_. E.g. imagine a program that tries to download some content from the Internet. The connection could be interrupted which could result in an unavoidable error. In that case it would be necessary to have a program that expects and such errors. In Python this is done via the _try-catch-finally_ blocks."
   ]
  },
  {
   "cell_type": "code",
   "execution_count": 95,
   "metadata": {},
   "outputs": [
    {
     "name": "stdout",
     "output_type": "stream",
     "text": [
      "conv. failed\n",
      "don't care!\n"
     ]
    }
   ],
   "source": [
    "try:                     \n",
    "    int('1.0')              # the try block contains statements that may raise an error\n",
    "    a = 1/0\n",
    "except ValueError:\n",
    "    print('conv. failed')   # if the declared error occurs, the statements in the except block are executed\n",
    "except ZeroDivisionError:\n",
    "    print('division by 0')  # multiple different errors can be excepted\n",
    "finally:\n",
    "    print(\"don't care!\")    # the finally block (optional) contains statements, that are ALWAYS executed after the try-except"
   ]
  },
  {
   "cell_type": "markdown",
   "metadata": {},
   "source": [
    "<h3 style=\"color: #ffffff; background-color: #00509B; padding: 1%\" >Lambda expressions<a id='lambda-expressions'></a> </h3><br>\n",
    "Lambda expressions are used to create anonymous functions. These can be useful to replace functions:\n",
    "\n",
    "- that are only used in a small context (e.g. only in one statement)\n",
    "- whose return value can be computed in one statement.\n",
    "\n",
    "The following cell shows the usage of lambda expression to define a function:"
   ]
  },
  {
   "cell_type": "code",
   "execution_count": 96,
   "metadata": {},
   "outputs": [
    {
     "name": "stdout",
     "output_type": "stream",
     "text": [
      "Type of add:  <class 'function'>\n",
      "Type of addL: <class 'function'>\n",
      "\n",
      "Result of add(1,2):  3\n",
      "Result of addL(1,2): 3\n"
     ]
    }
   ],
   "source": [
    "def add(x, y):          # common way to define a function\n",
    "    return x + y\n",
    "\n",
    "addL = lambda x,y : x+y  # using lambda to define a function\n",
    "\n",
    "print('Type of add: ', type(add))\n",
    "print('Type of addL:', type(addL))\n",
    "\n",
    "print('\\nResult of add(1,2): ', add(1,2))\n",
    "print('Result of addL(1,2):', addL(1,2))"
   ]
  },
  {
   "cell_type": "markdown",
   "metadata": {},
   "source": [
    "Usually lambda functions are not stored in variables, but instead directly passed as arguments. E.g. the built-in function `max()` has the keyword parameter `key` of type function. We can e.g. use this keyword, to make the function search for the biggest absolute value:"
   ]
  },
  {
   "cell_type": "code",
   "execution_count": 97,
   "metadata": {},
   "outputs": [
    {
     "name": "stdout",
     "output_type": "stream",
     "text": [
      "-15 has the highest absolute value in [-3, 8, -15, 2].\n"
     ]
    }
   ],
   "source": [
    "values = [-3, 8, -15, 2]\n",
    "\n",
    "abs_max = max(values, key = lambda x: abs(x))\n",
    "print('{} has the highest absolute value in {}.'.format(abs_max, values))"
   ]
  },
  {
   "cell_type": "markdown",
   "metadata": {},
   "source": [
    "<h3 style=\"color: #ffffff; background-color: #00509B; padding: 1%\" >Mixed topics<a id='interesting-things'></a> </h3><br>\n",
    "This is a small collection of additional Python knowledge. \n",
    "\n",
    "- In an interactive shell, the last result will be stored to `_`<br><br>\n",
    "- __Tripple apostrophs__ introduce multi line comments, __tripple quotes__ introduce multi-line strings:"
   ]
  },
  {
   "cell_type": "code",
   "execution_count": 98,
   "metadata": {},
   "outputs": [
    {
     "name": "stdout",
     "output_type": "stream",
     "text": [
      "a \n",
      "multi-line\n",
      "string\n"
     ]
    }
   ],
   "source": [
    "'''\n",
    "a \n",
    "multi-line\n",
    "comment\n",
    "'''\n",
    "s = \"\"\"a \n",
    "multi-line\n",
    "string\"\"\"\n",
    "\n",
    "print(s)"
   ]
  },
  {
   "cell_type": "markdown",
   "metadata": {},
   "source": [
    "- Strings are similar to tuples of single characters so __indexing and slicing can be applied to strings__"
   ]
  },
  {
   "cell_type": "code",
   "execution_count": 99,
   "metadata": {
    "scrolled": true
   },
   "outputs": [
    {
     "name": "stdout",
     "output_type": "stream",
     "text": [
      "xyzxyzxyzxyzxyz\n",
      "xyzxy\n",
      "z\n"
     ]
    }
   ],
   "source": [
    "s = ('xyz'*5)\n",
    "print(s)\n",
    "print(s[:5])\n",
    "print(s[-1])"
   ]
  },
  {
   "cell_type": "markdown",
   "metadata": {},
   "source": [
    "- Conversion between different integer systems"
   ]
  },
  {
   "cell_type": "code",
   "execution_count": 100,
   "metadata": {
    "scrolled": true
   },
   "outputs": [
    {
     "name": "stdout",
     "output_type": "stream",
     "text": [
      "0xff = 255\n"
     ]
    }
   ],
   "source": [
    "x = 0xFF        # hexadecimal\n",
    "print(hex(x),'=',x)"
   ]
  },
  {
   "cell_type": "code",
   "execution_count": 101,
   "metadata": {},
   "outputs": [
    {
     "name": "stdout",
     "output_type": "stream",
     "text": [
      "0b1000 = 8\n"
     ]
    }
   ],
   "source": [
    "b = 0b1000       # binary\n",
    "print(bin(b),'=',b)"
   ]
  },
  {
   "cell_type": "code",
   "execution_count": 102,
   "metadata": {
    "scrolled": true
   },
   "outputs": [
    {
     "name": "stdout",
     "output_type": "stream",
     "text": [
      "0o11 = 9\n"
     ]
    }
   ],
   "source": [
    "o = 0o11         # octal\n",
    "print(oct(o),'=',o)"
   ]
  },
  {
   "cell_type": "markdown",
   "metadata": {},
   "source": [
    "- Since Python 3 integers can have __arbitrary size__"
   ]
  },
  {
   "cell_type": "code",
   "execution_count": 103,
   "metadata": {},
   "outputs": [
    {
     "name": "stdout",
     "output_type": "stream",
     "text": [
      "8.98846567431158e+307\n"
     ]
    }
   ],
   "source": [
    "f = 2.0**1023   # limit of float value\n",
    "print(f)\n",
    "\n",
    "i = 3**5000     # int has no limit\n",
    "# print(i)\n",
    "# print(bin(i)) # simple way to produce many zeros and ones"
   ]
  },
  {
   "cell_type": "markdown",
   "metadata": {},
   "source": [
    "- Creation of a char from its __unicode number__ ([see unicode table](http://www.unicode-table.com)) with `\\u` in strings"
   ]
  },
  {
   "cell_type": "code",
   "execution_count": 104,
   "metadata": {},
   "outputs": [
    {
     "name": "stdout",
     "output_type": "stream",
     "text": [
      "λ\n"
     ]
    }
   ],
   "source": [
    "lmbda = '\\u03BB'\n",
    "print(lmbda)"
   ]
  },
  {
   "cell_type": "markdown",
   "metadata": {},
   "source": [
    "- Creation of a char from its __ascii number__ (<a href=https://www.asciitable.com/>see ascii table</a>) with `chr()`"
   ]
  },
  {
   "cell_type": "code",
   "execution_count": 105,
   "metadata": {},
   "outputs": [
    {
     "name": "stdout",
     "output_type": "stream",
     "text": [
      "<3\n"
     ]
    }
   ],
   "source": [
    "heart = chr(60) + chr(51)\n",
    "print(heart)"
   ]
  },
  {
   "cell_type": "markdown",
   "metadata": {},
   "source": [
    "- Tricky __list augmentation__. Although the following four implementations have the same result, the first one is about 1000 times slower than the others (because new memory space is allocated in each iteration)!"
   ]
  },
  {
   "cell_type": "code",
   "execution_count": 106,
   "metadata": {},
   "outputs": [
    {
     "name": "stdout",
     "output_type": "stream",
     "text": [
      "[1, 2, 42, 42, 42, 42]\n"
     ]
    }
   ],
   "source": [
    "L = [1,2]\n",
    "\n",
    "L = L + [42]   # impl 1   VERY SLOW !!\n",
    "L += [42]      # impl 2\n",
    "L.append(42)   # impl 3\n",
    "L.extend([42]) # impl 4\n",
    "\n",
    "print(L)"
   ]
  },
  {
   "cell_type": "markdown",
   "metadata": {},
   "source": [
    "- Python supports an __else block after loops__ (and try-catch blocks). That is only reached, when the while condition is not fulfilled (and not reached when the loop is terminated with the break statement)"
   ]
  },
  {
   "cell_type": "code",
   "execution_count": 111,
   "metadata": {},
   "outputs": [
    {
     "name": "stdout",
     "output_type": "stream",
     "text": [
      "enter exit or break: exit\n",
      "else block\n",
      "done\n"
     ]
    }
   ],
   "source": [
    "i = ''\n",
    "while i != 'exit':\n",
    "    i = input('enter exit or break: ')\n",
    "    if i == 'break':\n",
    "        break\n",
    "else:\n",
    "    print('else block')\n",
    "print('done')"
   ]
  },
  {
   "cell_type": "markdown",
   "metadata": {},
   "source": [
    "---\n",
    "\n",
    "Following code-cell removes `In[]` / `Out[]` prompts left to code cells."
   ]
  },
  {
   "cell_type": "code",
   "execution_count": 110,
   "metadata": {},
   "outputs": [
    {
     "data": {
      "text/html": [
       "<style>div.prompt {display:none}</style>"
      ],
      "text/plain": [
       "<IPython.core.display.HTML object>"
      ]
     },
     "metadata": {},
     "output_type": "display_data"
    }
   ],
   "source": [
    "%%HTML\n",
    "<style>div.prompt {display:none}</style>"
   ]
  },
  {
   "cell_type": "markdown",
   "metadata": {},
   "source": [
    "---\n",
    "\n",
    "<table>\n",
    "  <tr>\n",
    "    <td>Author:</td>\n",
    "    <td>Dennis Wittich</td>\n",
    "  </tr>\n",
    "  <tr>\n",
    "    <td>Last modified:</td>\n",
    "    <td>13 / 08 / 2018</td>\n",
    "  </tr>\n",
    "</table> "
   ]
  }
 ],
 "metadata": {
  "kernelspec": {
   "display_name": "Python 3",
   "language": "python",
   "name": "python3"
  },
  "language_info": {
   "codemirror_mode": {
    "name": "ipython",
    "version": 3
   },
   "file_extension": ".py",
   "mimetype": "text/x-python",
   "name": "python",
   "nbconvert_exporter": "python",
   "pygments_lexer": "ipython3",
   "version": "3.7.0"
  },
  "toc": {
   "base_numbering": 1,
   "nav_menu": {},
   "number_sections": false,
   "sideBar": true,
   "skip_h1_title": false,
   "title_cell": "Table of Contents",
   "title_sidebar": "Contents",
   "toc_cell": false,
   "toc_position": {},
   "toc_section_display": false,
   "toc_window_display": false
  },
  "varInspector": {
   "cols": {
    "lenName": 16,
    "lenType": 16,
    "lenVar": 40
   },
   "kernels_config": {
    "python": {
     "delete_cmd_postfix": "",
     "delete_cmd_prefix": "del ",
     "library": "var_list.py",
     "varRefreshCmd": "print(var_dic_list())"
    },
    "r": {
     "delete_cmd_postfix": ") ",
     "delete_cmd_prefix": "rm(",
     "library": "var_list.r",
     "varRefreshCmd": "cat(var_dic_list()) "
    }
   },
   "types_to_exclude": [
    "module",
    "function",
    "builtin_function_or_method",
    "instance",
    "_Feature"
   ],
   "window_display": false
  }
 },
 "nbformat": 4,
 "nbformat_minor": 2
}
